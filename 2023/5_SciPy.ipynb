{
 "cells": [
  {
   "cell_type": "markdown",
   "id": "338f436a",
   "metadata": {
    "id": "338f436a"
   },
   "source": [
    "# 5 - SciPy\n",
    "\n",
    "**Summary**\n",
    "> * Evaluating functions\n",
    ">> * Root finding\n",
    ">> * Finding the minimum/maximum\n",
    "\n",
    "\n",
    "> * Numerical integration\n",
    ">> * Single integrals\n",
    ">> * Multiple integrals\n",
    ">> * Ordinary Differential Equation integrations\n",
    "\n",
    "> * Solving Ordinary Differential Equations (ODEs)\n",
    "\n",
    "> * Sklearn\n",
    "\n",
    "> * Exercises\n",
    "\n",
    "\n",
    "\n",
    "SciPy tutorials: https://docs.scipy.org/doc/scipy/tutorial/index.html"
   ]
  },
  {
   "cell_type": "markdown",
   "id": "JeFqKSM8mtUz",
   "metadata": {
    "id": "JeFqKSM8mtUz"
   },
   "source": [
    "## Evaluating functions\n",
    "\n",
    "### Root finding\n",
    "\n",
    "\n",
    "Often you will want to examine a function numerically instead of through analytic means. For example, say we want to find the root of the following function\n",
    "\n",
    "$f(x) = x^{3} + x -1$\n",
    "\n",
    "\n",
    "We can do this in pure Python using Newton's method. Here we iteratively update the variable $x$ over $n$ steps as follows\n",
    "\n",
    "\n",
    "$ x_{n+1} = x_{n} - \\frac{f(x_{n})}{f^{'}(x_{n})} $\n",
    "\n",
    "where we attempt to minimize the residual\n",
    "\n"
   ]
  },
  {
   "cell_type": "code",
   "execution_count": 1,
   "id": "evdJ6lmy1k4I",
   "metadata": {
    "colab": {
     "base_uri": "https://localhost:8080/"
    },
    "id": "evdJ6lmy1k4I",
    "outputId": "13be5a8e-8c18-4e12-b8b9-613f222c9ae7"
   },
   "outputs": [
    {
     "name": "stdout",
     "output_type": "stream",
     "text": [
      "Root = 0.68\n"
     ]
    }
   ],
   "source": [
    "import matplotlib.pyplot as plt\n",
    "import numpy as np\n",
    "from scipy import optimize\n",
    "\n",
    "\n",
    "def newton_algorithm(x0, n_iter, f, dfdx):\n",
    "  x=x0\n",
    "  for i in range(n_iter):\n",
    "\n",
    "    x = x-f(x)/dfdx(x)\n",
    "\n",
    "  residual = np.abs(f(x))\n",
    "  return x, residual\n",
    "\n",
    "\n",
    "\n",
    "def f1(x):\n",
    "  return x**3 + x - 1\n",
    "\n",
    "def df1dx(x):\n",
    " return 3*(x**2) + 1\n",
    "\n",
    "\n",
    "solution, residual = newton_algorithm(0.001, 100, f1, df1dx)\n",
    "\n",
    "print(\"Root = %.2f\" % solution)\n"
   ]
  },
  {
   "cell_type": "markdown",
   "id": "1REjwDzj8zE8",
   "metadata": {
    "id": "1REjwDzj8zE8"
   },
   "source": [
    "Looks pretty good! We could have also done this using SciPy, which is likely how you find roots in difficult real-world problems."
   ]
  },
  {
   "cell_type": "code",
   "execution_count": null,
   "id": "dHqA74QIli1d",
   "metadata": {
    "colab": {
     "base_uri": "https://localhost:8080/"
    },
    "id": "dHqA74QIli1d",
    "outputId": "ea92a7b4-0653-45d7-9863-32b1653021fa"
   },
   "outputs": [
    {
     "data": {
      "text/plain": [
       " message: The solution converged.\n",
       " success: True\n",
       "  status: 1\n",
       "     fun: [-1.110e-16]\n",
       "       x: [ 6.823e-01]\n",
       "    nfev: 10\n",
       "    fjac: [[-1.000e+00]]\n",
       "       r: [-2.397e+00]\n",
       "     qtf: [ 1.322e-10]"
      ]
     },
     "execution_count": 60,
     "metadata": {},
     "output_type": "execute_result"
    }
   ],
   "source": [
    "optimize.root(f1, x0=0.001)\n"
   ]
  },
  {
   "cell_type": "markdown",
   "id": "aTXtWtvsjWrn",
   "metadata": {
    "id": "aTXtWtvsjWrn"
   },
   "source": [
    "### Finding the minimum/maximum\n",
    "\n",
    "One of the things we often want to identify is the minima and maxima of a function. As an example, we will look at the Lennard-Jones potential function.\n",
    "\n",
    "$U(r) = 4 \\epsilon  \\left [  \\left (  \\frac{\\sigma}{r}^{12} - \\frac{\\sigma}{r}^{6}  \\right ) \\right ] $\n",
    "\n",
    "\n",
    "Let's see if there's a minima of the plot below"
   ]
  },
  {
   "cell_type": "code",
   "execution_count": null,
   "id": "3HYRlmG5dXsA",
   "metadata": {
    "colab": {
     "base_uri": "https://localhost:8080/",
     "height": 473
    },
    "id": "3HYRlmG5dXsA",
    "outputId": "951837bd-2f4e-43bb-fc5f-f6e8b61cf5ed"
   },
   "outputs": [
    {
     "data": {
      "text/plain": [
       "Text(0, 0.5, 'Potential energy')"
      ]
     },
     "execution_count": 24,
     "metadata": {},
     "output_type": "execute_result"
    },
    {
     "data": {
      "image/png": "[encoded data removed]",
      "text/plain": [
       "<Figure size 640x480 with 1 Axes>"
      ]
     },
     "metadata": {},
     "output_type": "display_data"
    }
   ],
   "source": [
    "import matplotlib.pyplot as plt\n",
    "import numpy as np\n",
    "\n",
    "sigma=1\n",
    "epsilon=1\n",
    "r_range = np.linspace(0.1,5, 100)\n",
    "\n",
    "def U(r):\n",
    "\n",
    "  return 4*epsilon*( (sigma/r)**12 - (sigma/r)**6 )\n",
    "\n",
    "U_to_plot = [U(r_i) for r_i in r_range]\n",
    "\n",
    "plt.plot(r_range, U_to_plot)\n",
    "plt.ylim((-2,3))\n",
    "plt.xlabel('Distance between two particles')  # x label\n",
    "plt.ylabel('Potential energy')  # y label"
   ]
  },
  {
   "cell_type": "markdown",
   "id": "nSdbaAlFiaH_",
   "metadata": {
    "id": "nSdbaAlFiaH_"
   },
   "source": [
    "It looks like there is one. Let's try to find the negative through numerical means. We can use Newton's algorithm again to answer this question. However, because the derivative is zero at a minimum/maximum, the local minima and maxima can be found by applying Newton's method to the derivative.\n",
    "\n",
    "Our iterative function is now\n",
    "\n",
    "$ x_{n+1} = x_{n} - \\frac{f^{'}(x_{n})}{f^{''}(x_{n})} $\n",
    "\n",
    "We can then take the first and second derivative of the Lennard-Jones potential.\n",
    "\n",
    "$ U'(x) = 4 \\epsilon  \\left [  -12 \\sigma^{12} r^{-13}  + 6 \\sigma^{6} r^{-7} \\right ]\n",
    "\\\\\n",
    "U''(x) = 4 \\epsilon  \\left [  156 \\sigma^{12} r^{-14}  - 42 \\sigma^{6} r^{-8} \\right ]\n",
    "$\n",
    "\n"
   ]
  },
  {
   "cell_type": "code",
   "execution_count": null,
   "id": "0apUvT9hmQ_z",
   "metadata": {
    "colab": {
     "base_uri": "https://localhost:8080/"
    },
    "id": "0apUvT9hmQ_z",
    "outputId": "2514fd16-30d3-435c-ed67-9a9a3c1631f0"
   },
   "outputs": [
    {
     "name": "stdout",
     "output_type": "stream",
     "text": [
      "1.1224620483091419\n",
      "r_min = 1.12\n",
      "U(r_min) = -1.00\n"
     ]
    }
   ],
   "source": [
    "def dUdr(r):\n",
    "  return 4*epsilon*(-12*(sigma**12)*(r**-13) + 6*(sigma**6)*(r**-7)  )\n",
    "\n",
    "def d2Udr2(r):\n",
    "  return 4*epsilon*(156*(sigma**12)*(r**-14) + 42*(sigma**6)*(r**-8)  )\n",
    "\n",
    "solution, residual = newton_algorithm(0.2, 100, dUdr, d2Udr2)\n",
    "\n",
    "print(\"r_min = %.2f\" % solution)\n",
    "\n",
    "print(\"U(r_min) = %.2f\" % U(solution))"
   ]
  },
  {
   "cell_type": "markdown",
   "id": "KbVKv2gihsjr",
   "metadata": {
    "id": "KbVKv2gihsjr"
   },
   "source": [
    "By taking the derivative of $U$ and setting it to zero we obtain the expression $r^{*} = 2^{-6}\\sigma$. By taking the second derivative of $U$ and plugging in $r^{*}$ we obtain a positive value, meaining that $r^{*}$ is the minimum and $U(r^{*}) = -\\epsilon = -1$. So everything checks out.\n",
    "\n",
    "On your own\n",
    "\n",
    "In reality you will often find minima using Python packages. We can use SciPy to find the minimum of the function, obtaining a value similar to the one we obtained above. Here we have used the L-BFGS-B algorithm instead of the Newton method."
   ]
  },
  {
   "cell_type": "code",
   "execution_count": null,
   "id": "kWToExwZouZP",
   "metadata": {
    "colab": {
     "base_uri": "https://localhost:8080/"
    },
    "id": "kWToExwZouZP",
    "outputId": "86e6a83e-23f4-4ce4-b804-de4bd442bc4f"
   },
   "outputs": [
    {
     "data": {
      "text/plain": [
       "  message: CONVERGENCE: NORM_OF_PROJECTED_GRADIENT_<=_PGTOL\n",
       "  success: True\n",
       "   status: 0\n",
       "      fun: -0.9999999999999993\n",
       "        x: [ 1.122e+00]\n",
       "      nit: 7\n",
       "      jac: [ 1.110e-08]\n",
       "     nfev: 50\n",
       "     njev: 25\n",
       " hess_inv: <1x1 LbfgsInvHessProduct with dtype=float64>"
      ]
     },
     "execution_count": 29,
     "metadata": {},
     "output_type": "execute_result"
    }
   ],
   "source": [
    "optimize.minimize(U, x0=0.1, method=\"L-BFGS-B\")"
   ]
  },
  {
   "cell_type": "markdown",
   "id": "gLIfsxsjejl9",
   "metadata": {
    "id": "gLIfsxsjejl9"
   },
   "source": [
    "Similar analyses can be performed to find the maximum."
   ]
  },
  {
   "cell_type": "markdown",
   "id": "4a5a124c",
   "metadata": {
    "id": "4a5a124c"
   },
   "source": [
    "## Numerical Integration\n",
    "\n",
    "You may often encounter a function that cannot be integrated analytically or is very difficult to integrate. In this scenario, it is useful to turn to numerical integration methods.\n",
    "\n",
    "### Single integration\n",
    "\n",
    "First, we will integrate a function of a single variable $x$. Consider the following integral\n",
    "\n",
    "$f(x)= \\int^{1}_{0} \\mathrm{exp[-x^{2}]}\\,  dx$\n",
    "\n",
    "\n",
    "We'll be using the trapezoidal rule for definite integrals, where we approximate the integral as\n",
    "\n",
    "$\\int^{b}_{a} f(x)  dx \\approx  \\frac{(b-a)}{2} * (f(b) + f(a))$\n",
    "\n",
    "which approximates the region under $f(x)$ as a trapezoid. Similar to the root-finding algorithm, our approximations are better if we partition the integration interval into $N$ subintervals, apply the trapezoidal rule to each subinterval, and sum the results.\n",
    "\n",
    "$\\int^{b}_{a} f(x)  dx  \\approx \\sum_{n=1}^{N} \\frac{f(x_{n-1}) + f(x_{n})}{2} \\Delta x_{n} $\n",
    "\n",
    "where $\\Delta x_{n} = x_{n} - x_{n-1}$\n",
    "\n",
    "\n",
    "We can perform this integration approximation numerically using only a few lines of Python.\n"
   ]
  },
  {
   "cell_type": "code",
   "execution_count": null,
   "id": "YhNN0t3XJv3S",
   "metadata": {
    "colab": {
     "base_uri": "https://localhost:8080/"
    },
    "id": "YhNN0t3XJv3S",
    "outputId": "55ca6519-2774-43ea-fc34-625e371e2a2a"
   },
   "outputs": [
    {
     "name": "stdout",
     "output_type": "stream",
     "text": [
      "result: 0.7468180014679701\n"
     ]
    }
   ],
   "source": [
    "def trapizoidal_integration(f, a, b, N):\n",
    "\n",
    "     h = (b-a)/N # trapezium height\n",
    "     Xs = np.linspace(a, b, N+1) # make array of inpus (x-values)\n",
    "     Ys = f(Xs) # evaluate function\n",
    "     return (h/2) * (Ys[0] + Ys[-1] + 2*np.sum(Ys[1:-1]))\n",
    "\n",
    "\n",
    "f = lambda x:np.exp(-x**2)\n",
    "\n",
    "''' the lambda construction produces exactly the same as below!\n",
    "def f(x):\n",
    "  return np.exp(-x**2)\n",
    "'''\n",
    "\n",
    "result = trapizoidal_integration(f, 0, 1, 100)\n",
    "\n",
    "print('result: {}'.format(result))"
   ]
  },
  {
   "cell_type": "markdown",
   "id": "6aa562fc",
   "metadata": {
    "id": "6aa562fc"
   },
   "source": [
    "\n",
    "\n",
    "However it can be inconveinant to write your own integration code. Fortunately SciPy has a number of routines for performing numerical integration. Most of them are found in the same scipy.integrate library.  We will use the quad function, short for quadrature, the workhorse of SciPy’s integration functions for performing single definite integrals of a function $f(x)$.\n",
    "\n"
   ]
  },
  {
   "cell_type": "code",
   "execution_count": null,
   "id": "c527612e",
   "metadata": {
    "colab": {
     "base_uri": "https://localhost:8080/"
    },
    "id": "c527612e",
    "outputId": "e4a270ce-3c59-4800-df26-6f13bd17867b"
   },
   "outputs": [
    {
     "name": "stdout",
     "output_type": "stream",
     "text": [
      "result: 0.7468241328124271, error estimate: 8.291413475940725e-15\n"
     ]
    }
   ],
   "source": [
    "import scipy.integrate\n",
    "\n",
    "# integrates f between 0 and 1\n",
    "result, error_estimate = scipy.integrate.quad(f, 0, 1)\n",
    "print('result: {}, error estimate: {}'.format(result, error_estimate))"
   ]
  },
  {
   "cell_type": "markdown",
   "id": "bde1986c",
   "metadata": {
    "id": "bde1986c"
   },
   "source": [
    "We have used the function lambda as short for a function definition. In this case, it is functionally identical to using def. The quad function returns the two values, in which the first number is the value of integral and the second value is the estimate of the absolute error in the value of integral. As you can see the error due to numerical optimization is much smaller than the estimated value, suggesting that the numerical optimization procedure is accurate.\n",
    "\n"
   ]
  },
  {
   "cell_type": "markdown",
   "id": "0b3325c5",
   "metadata": {
    "id": "0b3325c5"
   },
   "source": [
    "### Multiple integration\n",
    "\n",
    "Doing double integration is handled by the function dblquad, whereas triple integration is handled by tplquad. N-fold integration can be handled by nquad.\n",
    "The limits of all inner integrals can be defined as functions. That is, we integrate with $a < x < b$, and at each $x$ we integrate from $g(x) < y < h(x)$.\n",
    "\n",
    "We'll examine the following integral.\n",
    "\n",
    "\n",
    "$f(x,y) = \\int^{0.5}_{0} dx \\int^{h(x)}_{0} dy \\, 16 \\,x \\, y $\n",
    "\n",
    "$h(x)= \\sqrt{1-4\\,x^2}$\n",
    "\n"
   ]
  },
  {
   "cell_type": "code",
   "execution_count": null,
   "id": "823b751b",
   "metadata": {
    "id": "823b751b"
   },
   "outputs": [],
   "source": [
    "from math import sqrt\n",
    "\n",
    "f = lambda x, y : 16*x*y\n",
    "g = lambda x : 0\n",
    "h = lambda x : sqrt(1-4*x**2)\n",
    "\n",
    "result, error_estimate = scipy.integrate.dblquad(f, 0, 0.5, g, h)\n",
    "print('result: {}, error estimate: {}'.format(result, error_estimate))"
   ]
  },
  {
   "cell_type": "markdown",
   "id": "A0IxWNQ_sa-T",
   "metadata": {
    "id": "A0IxWNQ_sa-T"
   },
   "source": [
    "## Solving Ordinary Differential Equations\n",
    "\n",
    "In mathematics, an ordinary differential equation (ODE) is a differential equation containing one or more functions of one independent variable and the derivatives of those functions (cit. Wikipedia).\n",
    "Most of the time, these means an equation of functions of time.\n",
    "\n",
    "The ODEint method of scipy solves one (or possibly a system of) ODE, i.e. gives the trajectory in time given a starting condition.\n",
    "\n",
    "Let us integrate the Van der Pol oscillator, which has a function for the position of the pendulum $y$ as:\n",
    "\n",
    "$ \\frac{d^{2}y}{dt^{2}} - \\mu (1-y^{2}) \\frac{dy}{dt} + y=0$\n",
    "\n",
    "This is a damped, nonlinear oscillator, parametrized by $\\mu$ (the largest the $\\mu$, the more non linear and damped it is).\n",
    "It can be rewritten as a system of eqs:\n",
    "\n",
    "$\n",
    "\\frac{dy_1}{dt} = \\mu (y_1-\\frac{1}{3}y_1^{3}-y_2)\\\\\n",
    "\\frac{dy_2}{dt}= \\frac{1}{\\mu}y_1\n",
    "$\n",
    "\n",
    "Where now $y = (y_1, y_2)$. (The original position is now $y_1$.)"
   ]
  },
  {
   "cell_type": "code",
   "execution_count": null,
   "id": "66547d76",
   "metadata": {
    "id": "66547d76"
   },
   "outputs": [],
   "source": [
    "import matplotlib.pyplot as plt\n",
    "from scipy.integrate import odeint\n",
    "\n",
    "\n",
    "# Define the function that calculates the derivative dy/dt\n",
    "# Note that the first variables MUST be y and t, even if t is not used.\n",
    "def van_der_pol_pend(y, t, mu):\n",
    "  x1, x2 = y\n",
    "  dydt = [ mu * (x1 - 1/3 * x1**3 - x2), 1/mu * x1]\n",
    "  return dydt\n",
    "\n",
    "# initial position\n",
    "y0 = [12, 0.4]\n",
    "\n",
    "# time spatiation of the output\n",
    "t = np.linspace(0,100, 1000)\n",
    "\n",
    "# value of mu\n",
    "mu = 6\n",
    "\n",
    "# Call the solver, giving it the function (van_der_pol_pend), the initial condition (y0),\n",
    "# the time steps for which you want output (t) and the extra arguments for the function (mu)\n",
    "sol = odeint(van_der_pol_pend, y0, t, args=(mu,))\n"
   ]
  },
  {
   "cell_type": "markdown",
   "id": "-ak4_Kzpd41z",
   "metadata": {
    "id": "-ak4_Kzpd41z"
   },
   "source": [
    "Semi-exercise:\n",
    "Now that you have the solution as a list of $[y_1(t), y_2(t)]$, plot them!\n",
    "Plot them as a function of time, and as points in a 2D space. What can you see?"
   ]
  },
  {
   "cell_type": "code",
   "execution_count": null,
   "id": "PmMnZyspd34q",
   "metadata": {
    "id": "PmMnZyspd34q"
   },
   "outputs": [],
   "source": []
  },
  {
   "cell_type": "markdown",
   "id": "g4DVhyfnuHnb",
   "metadata": {
    "id": "g4DVhyfnuHnb"
   },
   "source": [
    "# Sklearn (Just for your information)\n",
    "\n",
    "A library focused on Machine Learning techniques, such as:\n",
    "> * Clustering\n",
    "> * Classification\n",
    "> * Regression\n",
    "\n",
    "SkLearn tutorials: https://scikit-learn.org/stable/getting_started.html"
   ]
  },
  {
   "cell_type": "markdown",
   "id": "_D5kgaSHu6Gt",
   "metadata": {
    "id": "_D5kgaSHu6Gt"
   },
   "source": [
    "#Exercise"
   ]
  },
  {
   "cell_type": "markdown",
   "id": "jBR8cL3hu8pD",
   "metadata": {
    "id": "jBR8cL3hu8pD"
   },
   "source": [
    "1. Autoregulatory gene networks\n",
    "\n",
    "A simple model of a gene network with regulatory feedback occurs when a gene is regulated by its product. This is known as autoregulation. This process can be modeled as follows, where $a$ represents mRNA concentration and $x$ represents protein concentration\n",
    "\n",
    "One classic model of population dynamics is the Lotka-Volterra (or prey-predator) model. It models the interaction of two populations ($y_1$, the preys and $y_2$, the predators). The model is very simple, but the results - as you will see in other courses - are still quite interesting.\n",
    "\n",
    "$$\n",
    "d a/ d t = \\kappa g(x) - \\gamma a \\\\\n",
    "d x / d t = \\kappa_{p} a - \\gamma_{p}x\n",
    "$$\n",
    "\n",
    "The four parameters represent:\n",
    "- $\\kappa$ = transcription rate\n",
    "- $\\gamma$ = transcript degredation rate\n",
    "- $\\kappa_{p}$ = translation rate\n",
    "- $\\gamma_{p}$ = protein degredation rate\n",
    "\n",
    "and $g(x)$ is the nonlinear feedback of the protein on the transcription of mRNA. This function is often modeled as a Hill function, either as an activator (+) or a repressor (-)\n",
    "\n",
    "$$\n",
    "g_{+}(x) = 1 + \\sigma  \\frac{x^{2}}{K^{2} + x^{2}}  \\\\\n",
    "g_{-}(x) = \\sigma +  \\frac{K^{2}}{K^{2} + x^{2}}\n",
    "$$\n",
    "\n",
    "\n",
    "where $\\sigma$ represents the asymptotic rate of production at large protein concentrations and $K^{2}$ is the dissociation constant.\n",
    "\n",
    "\n",
    "Solve the system of ODEs in time, plotting the curve of mRNA and protein as functiond of time. Try to plot different curves for $g_{+}(x)$ and $g_{-}(x)$ for the same parameters and describe how they differ.\n",
    "\n"
   ]
  },
  {
   "cell_type": "code",
   "execution_count": null,
   "id": "zXelfVWDT9oF",
   "metadata": {
    "id": "zXelfVWDT9oF"
   },
   "outputs": [],
   "source": []
  },
  {
   "cell_type": "markdown",
   "id": "V3QbqNN7T9yq",
   "metadata": {
    "id": "V3QbqNN7T9yq"
   },
   "source": [
    "2. \"Manual integration\". The simplest method for integrating a function between $a$ and $b$ is to divide the segment in $N$ parts and calculate the function at each point.\n",
    "\n",
    "$$\n",
    "\\int_a^b dx f(x) \\approx \\sum_i^N f(x_i) (b-a)/N\n",
    "$$\n",
    "\n",
    "Using numpy arrays recreate\n",
    "$f(x)= \\int^{1}_{0} \\mathrm{exp[-x^{2}]}\\,  dx$. Using different values of $N$ and plotting the error, can you estimate what $N$ you need to obtain an error of order $10^{-14}$"
   ]
  },
  {
   "cell_type": "code",
   "execution_count": null,
   "id": "KxOZvlhSVICj",
   "metadata": {
    "id": "KxOZvlhSVICj"
   },
   "outputs": [],
   "source": []
  },
  {
   "cell_type": "markdown",
   "id": "mYEE60FPVIRp",
   "metadata": {
    "id": "mYEE60FPVIRp"
   },
   "source": [
    "3. Calculate $\\pi$ using double integration.\n",
    "(Hint, the area of a quarter of a circle is $\\pi\\, r^2 / 4$. How can you construct the boundaries of the integration?)."
   ]
  },
  {
   "cell_type": "code",
   "execution_count": null,
   "id": "XXTEdoiUVYJO",
   "metadata": {
    "id": "XXTEdoiUVYJO"
   },
   "outputs": [],
   "source": []
  }
 ],
 "metadata": {
  "colab": {
   "collapsed_sections": [
    "g4DVhyfnuHnb"
   ],
   "provenance": []
  },
  "kernelspec": {
   "display_name": "Python 3 (ipykernel)",
   "language": "python",
   "name": "python3"
  },
  "language_info": {
   "codemirror_mode": {
    "name": "ipython",
    "version": 3
   },
   "file_extension": ".py",
   "mimetype": "text/x-python",
   "name": "python",
   "nbconvert_exporter": "python",
   "pygments_lexer": "ipython3",
   "version": "3.8.17"
  }
 },
 "nbformat": 4,
 "nbformat_minor": 5
}
