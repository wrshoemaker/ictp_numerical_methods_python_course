{
 "cells": [
  {
   "cell_type": "markdown",
   "metadata": {
    "colab_type": "text",
    "id": "EED9ttNrffg7"
   },
   "source": [
    "# Getting started with Python\n",
    "\n",
    "<b>Summary</b>:\n",
    "> * Getting started with Colab\n",
    "> * Numbers and basic Python operations\n",
    ">> * Variables\n",
    ">> * The four operations\n",
    ">> * Integers and floating points\n",
    ">> * Power\n",
    ">> * Complex numbers\n",
    "> * Strings\n",
    ">> * Quotes\n",
    ">> * Concatenate strings\n",
    ">> * Indexing\n",
    ">> * Slicing\n",
    ">> * Including external variables in a string\n",
    "> * Lists\n",
    ">> * Again indexing and slicing\n",
    ">> * Modifying a list\n",
    ">> * Deleting elements\n",
    ">> * Length\n",
    ">> * List of lists\n",
    "> * Dictionaries\n",
    ">> * Building them\n",
    ">> * Modifying a dictionary\n",
    "> * Other structures\n",
    ">> * Tuple\n",
    ">> * Set\n",
    "> * True or false?\n",
    ">> * Boolean operators\n",
    ">> * `if` statement\n",
    "> * Copying variables"
   ]
  },
  {
   "cell_type": "markdown",
   "metadata": {
    "colab_type": "text",
    "id": "mGyK1XaGffhB"
   },
   "source": [
    "For more information about working with Colaboratory notebooks, see [Overview of Colaboratory](/notebooks/basic_features_overview.ipynb).\n",
    "\n",
    "For a basic Python tutorial see: https://docs.python.org/3/tutorial/introduction.html\n",
    "\n",
    "For more details see: https://docs.python.org/3/tutorial/controlflow.html\n",
    "For more details: https://docs.python.org/3/tutorial/datastructures.html"
   ]
  },
  {
   "cell_type": "markdown",
   "metadata": {
    "colab_type": "text",
    "id": "mei3WVMbflD9"
   },
   "source": [
    "## Getting started with Colab\n",
    "\n",
    "Colaboratory is a free Jupyter notebook environment for running Python code that requires no setup and runs entirely in the cloud.\n",
    "\n",
    "With Colaboratory you can write and execute code, save and share your analyses, and access powerful computing resources, all for free from your browser.\n",
    "\n",
    "The notebook is divided in *cells* of two kind:\n",
    " - Text cell, as the one in which this sentence is written\n",
    " - Code cell, as the one below"
   ]
  },
  {
   "cell_type": "code",
   "execution_count": 6,
   "metadata": {
    "colab": {
     "base_uri": "https://localhost:8080/",
     "height": 35
    },
    "colab_type": "code",
    "executionInfo": {
     "elapsed": 1448,
     "status": "ok",
     "timestamp": 1599811209151,
     "user": {
      "displayName": "Andrea Mazzolini",
      "photoUrl": "https://lh3.googleusercontent.com/a-/AOh14Gj889rV0hCKG0LInS5OJdlv_nS9Mv4fKmWQb2ax=s64",
      "userId": "17503038082596243982"
     },
     "user_tz": -120
    },
    "id": "8T_Do74qTmOM",
    "outputId": "17e2e7ea-482e-40c2-ecea-e8ad96af8514"
   },
   "outputs": [
    {
     "data": {
      "text/plain": [
       "86400"
      ]
     },
     "execution_count": 6,
     "metadata": {
      "tags": []
     },
     "output_type": "execute_result"
    }
   ],
   "source": [
    "seconds_in_a_day = 24 * 60 * 60\n",
    "seconds_in_a_day"
   ]
  },
  {
   "cell_type": "markdown",
   "metadata": {
    "colab_type": "text",
    "id": "PfaS_UHXTz66"
   },
   "source": [
    "To execute the code in the above cell, select it with a click and then either press the play button to the left of the code, or use the keyboard shortcut \"Command/Ctrl+Enter\".\n",
    "\n",
    "All cells modify the same global state, so variables that you define by executing a cell can be used in other cells:"
   ]
  },
  {
   "cell_type": "code",
   "execution_count": 7,
   "metadata": {
    "colab": {
     "base_uri": "https://localhost:8080/",
     "height": 35
    },
    "colab_type": "code",
    "executionInfo": {
     "elapsed": 1117,
     "status": "ok",
     "timestamp": 1599811209152,
     "user": {
      "displayName": "Andrea Mazzolini",
      "photoUrl": "https://lh3.googleusercontent.com/a-/AOh14Gj889rV0hCKG0LInS5OJdlv_nS9Mv4fKmWQb2ax=s64",
      "userId": "17503038082596243982"
     },
     "user_tz": -120
    },
    "id": "F0-oognBUfSK",
    "outputId": "8d6dfcd5-a875-4f2d-b3a4-b2d1dd0fc1ee"
   },
   "outputs": [
    {
     "data": {
      "text/plain": [
       "604800"
      ]
     },
     "execution_count": 7,
     "metadata": {
      "tags": []
     },
     "output_type": "execute_result"
    }
   ],
   "source": [
    "seconds_in_a_week = 7 * seconds_in_a_day\n",
    "seconds_in_a_week"
   ]
  },
  {
   "cell_type": "markdown",
   "metadata": {
    "colab_type": "text",
    "id": "NT50TlacV5qK"
   },
   "source": [
    "An extremely useful notebook feature is leaving the cursor on a method name or a variable name for few seconds. This will show the quick documentation of that method, for example try with `print()` below."
   ]
  },
  {
   "cell_type": "code",
   "execution_count": 8,
   "metadata": {
    "colab": {
     "base_uri": "https://localhost:8080/",
     "height": 35
    },
    "colab_type": "code",
    "executionInfo": {
     "elapsed": 1018,
     "status": "ok",
     "timestamp": 1599811210095,
     "user": {
      "displayName": "Andrea Mazzolini",
      "photoUrl": "https://lh3.googleusercontent.com/a-/AOh14Gj889rV0hCKG0LInS5OJdlv_nS9Mv4fKmWQb2ax=s64",
      "userId": "17503038082596243982"
     },
     "user_tz": -120
    },
    "id": "R17cEATgWR3h",
    "outputId": "28e180cd-7cdd-47c9-eb0c-75c65b5828e5"
   },
   "outputs": [
    {
     "name": "stdout",
     "output_type": "stream",
     "text": [
      "\n"
     ]
    }
   ],
   "source": [
    "print( )"
   ]
  },
  {
   "cell_type": "markdown",
   "metadata": {
    "colab_type": "text",
    "id": "12PbLQSIWXoC"
   },
   "source": [
    "A more extended documentation can be seen also using the question mark at the end of the method."
   ]
  },
  {
   "cell_type": "code",
   "execution_count": 5,
   "metadata": {
    "colab": {},
    "colab_type": "code",
    "executionInfo": {
     "elapsed": 14403,
     "status": "ok",
     "timestamp": 1599810967146,
     "user": {
      "displayName": "Andrea Mazzolini",
      "photoUrl": "https://lh3.googleusercontent.com/a-/AOh14Gj889rV0hCKG0LInS5OJdlv_nS9Mv4fKmWQb2ax=s64",
      "userId": "17503038082596243982"
     },
     "user_tz": -120
    },
    "id": "Zji5cSp0Wh_Q"
   },
   "outputs": [],
   "source": [
    "print?"
   ]
  },
  {
   "cell_type": "markdown",
   "metadata": {
    "colab_type": "text",
    "id": "Z4CjRSkLffhD"
   },
   "source": [
    "## Numbers and basic Python operations"
   ]
  },
  {
   "cell_type": "markdown",
   "metadata": {
    "colab_type": "text",
    "id": "ZmualjPcypQc"
   },
   "source": [
    "### Variables \n",
    "\n",
    "You do not need to specify the variable type in python (as for example in C). The interpreter understands the type for you depending on the syntax. "
   ]
  },
  {
   "cell_type": "code",
   "execution_count": null,
   "metadata": {
    "colab": {},
    "colab_type": "code",
    "id": "oG8yts6PzASL"
   },
   "outputs": [],
   "source": [
    "an_integer = 1\n",
    "\n",
    "a_float = 1.0\n",
    "\n",
    "a_string = \"hello\""
   ]
  },
  {
   "cell_type": "markdown",
   "metadata": {
    "colab_type": "text",
    "id": "8tTMXEBnzH4d"
   },
   "source": [
    "To inspect the variable type you can use the function `type()`."
   ]
  },
  {
   "cell_type": "code",
   "execution_count": null,
   "metadata": {
    "colab": {
     "base_uri": "https://localhost:8080/",
     "height": 72
    },
    "colab_type": "code",
    "executionInfo": {
     "elapsed": 497,
     "status": "ok",
     "timestamp": 1564992257567,
     "user": {
      "displayName": "Andrea Mazzolini",
      "photoUrl": "https://lh4.googleusercontent.com/-6ouzHGmaQ0I/AAAAAAAAAAI/AAAAAAAAABM/1wtfdHMkbEs/s64/photo.jpg",
      "userId": "17503038082596243982"
     },
     "user_tz": -120
    },
    "id": "yo_WAAb6zi8L",
    "outputId": "b3617bc5-d643-452b-846a-c6719e8ef00f"
   },
   "outputs": [
    {
     "name": "stdout",
     "output_type": "stream",
     "text": [
      "<class 'int'>\n",
      "<class 'float'>\n",
      "<class 'str'>\n"
     ]
    }
   ],
   "source": [
    "print(type(an_integer))\n",
    "\n",
    "print(type(a_float))\n",
    "\n",
    "print(type(a_string))"
   ]
  },
  {
   "cell_type": "markdown",
   "metadata": {
    "colab_type": "text",
    "id": "cC1p93kZffhH"
   },
   "source": [
    "### The four operations"
   ]
  },
  {
   "cell_type": "code",
   "execution_count": null,
   "metadata": {
    "colab": {},
    "colab_type": "code",
    "id": "qSjPlbfbffhM",
    "outputId": "cc1a83d7-1c04-41bc-8d83-bed4df065fe9"
   },
   "outputs": [
    {
     "name": "stdout",
     "output_type": "stream",
     "text": [
      "4\n",
      "20\n",
      "5.0\n"
     ]
    }
   ],
   "source": [
    "x = 2 + 2 # This returns an integer\n",
    "print(x)\n",
    "\n",
    "x = 50 - 5*6 # This returns an integer\n",
    "print(x)\n",
    "\n",
    "x = (50 - 5*6) / 4 # Division always returns a floating point (float) number\n",
    "print(x)"
   ]
  },
  {
   "cell_type": "code",
   "execution_count": null,
   "metadata": {
    "colab": {},
    "colab_type": "code",
    "id": "ROazq_34ffhW",
    "outputId": "1ce2789d-b27b-4f64-9519-5449e43daeae"
   },
   "outputs": [
    {
     "name": "stdout",
     "output_type": "stream",
     "text": [
      "1.6\n",
      "5\n",
      "2\n"
     ]
    }
   ],
   "source": [
    "x = 8 / 5  # basic division\n",
    "print(x)\n",
    "\n",
    "x = 17 // 3  # floor division discards the fractional part\n",
    "print(x)\n",
    "\n",
    "x = 17 % 3  # the % operator returns the remainder of the division\n",
    "print(x)"
   ]
  },
  {
   "cell_type": "markdown",
   "metadata": {
    "colab_type": "text",
    "id": "FIzv_SUAffhy"
   },
   "source": [
    "### Power"
   ]
  },
  {
   "cell_type": "code",
   "execution_count": null,
   "metadata": {
    "colab": {},
    "colab_type": "code",
    "id": "EU97IY4Offh1",
    "outputId": "c1a75594-d121-405e-ce2e-a2068c476d19"
   },
   "outputs": [
    {
     "name": "stdout",
     "output_type": "stream",
     "text": [
      "25\n",
      "128\n"
     ]
    }
   ],
   "source": [
    "x = 5 ** 2  # 5 squared\n",
    "print(x)\n",
    "\n",
    "x = 2 ** 7  # 2 to the power of 7\n",
    "print(x)"
   ]
  },
  {
   "cell_type": "markdown",
   "metadata": {
    "colab_type": "text",
    "id": "crPOfvl4ffh7"
   },
   "source": [
    "### Complex numbers"
   ]
  },
  {
   "cell_type": "code",
   "execution_count": null,
   "metadata": {
    "colab": {},
    "colab_type": "code",
    "id": "jAdMBQH4ffh9",
    "outputId": "6de286c9-31ee-4101-fcd6-6c37dcdbeb1e"
   },
   "outputs": [
    {
     "name": "stdout",
     "output_type": "stream",
     "text": [
      "Sum of complex numbers:  (5+3j)\n",
      "Product of complex numbers:  (10+5j)\n"
     ]
    }
   ],
   "source": [
    "z1 = 3 + 4j\n",
    "z2 = 2 - 1j\n",
    "print(\"Sum of complex numbers: \", z1 + z2)\n",
    "print(\"Product of complex numbers: \", z1 * z2)"
   ]
  },
  {
   "cell_type": "markdown",
   "metadata": {
    "colab_type": "text",
    "id": "U6-VcMmVffiC"
   },
   "source": [
    "## Strings\n",
    "\n",
    "### Quotes\n",
    "They can be enclosed in single quotes '...' or double quotes \"...\" with the same result"
   ]
  },
  {
   "cell_type": "code",
   "execution_count": null,
   "metadata": {
    "colab": {},
    "colab_type": "code",
    "id": "9ix9NyLAffiE",
    "outputId": "23a117f7-724e-402b-d015-d107664f467d"
   },
   "outputs": [
    {
     "name": "stdout",
     "output_type": "stream",
     "text": [
      "ciao\n",
      "doesn't\n",
      "doesn't\n",
      "\"Yes,\" they said.\n",
      "\"Yes,\" they said.\n",
      "\"Isn't,\" they said.\n"
     ]
    }
   ],
   "source": [
    "print('ciao')  # single quotes\n",
    "\n",
    "print('doesn\\'t')  # use \\' to escape the single quote...\n",
    "\n",
    "print(\"doesn't\")  # ...or use double quotes instead\n",
    "\n",
    "\n",
    "print('\"Yes,\" they said.')\n",
    "\n",
    "print(\"\\\"Yes,\\\" they said.\")\n",
    "\n",
    "print('\"Isn\\'t,\" they said.')"
   ]
  },
  {
   "cell_type": "markdown",
   "metadata": {
    "colab_type": "text",
    "id": "_IRCxdfJffiJ"
   },
   "source": [
    "### Concatenate strings"
   ]
  },
  {
   "cell_type": "code",
   "execution_count": null,
   "metadata": {
    "colab": {},
    "colab_type": "code",
    "id": "dnHvhaKdffiL",
    "outputId": "7ecfdc1b-3c42-42c3-b9e2-8165dfd405c1"
   },
   "outputs": [
    {
     "name": "stdout",
     "output_type": "stream",
     "text": [
      "plus operator\n",
      "star operator star operator \n",
      "unununium\n"
     ]
    }
   ],
   "source": [
    "print('plus ' + 'operator')\n",
    "\n",
    "print('star operator ' * 2)\n",
    "\n",
    "print(3 * 'un' + 'ium') # 3 times 'un', followed by 'ium'"
   ]
  },
  {
   "cell_type": "markdown",
   "metadata": {
    "colab_type": "text",
    "id": "QaGU7NL_ffiQ"
   },
   "source": [
    "### Indexing"
   ]
  },
  {
   "cell_type": "code",
   "execution_count": null,
   "metadata": {
    "colab": {},
    "colab_type": "code",
    "id": "w3KpMkPdffiR",
    "outputId": "56189e2c-387e-4912-8c04-516ab5db70e0"
   },
   "outputs": [
    {
     "name": "stdout",
     "output_type": "stream",
     "text": [
      "P\n",
      "n\n",
      "n\n",
      "o\n"
     ]
    }
   ],
   "source": [
    "word = 'Python'\n",
    "\n",
    "print(word[0])  # character in position 0\n",
    "\n",
    "print(word[5])  # character in position 5\n",
    "\n",
    "print(word[-1]) # last character\n",
    "\n",
    "print(word[-2]) # two characters from the end"
   ]
  },
  {
   "cell_type": "markdown",
   "metadata": {
    "colab_type": "text",
    "id": "DE28CC3BffiX"
   },
   "source": [
    "### Slicing"
   ]
  },
  {
   "cell_type": "code",
   "execution_count": null,
   "metadata": {
    "colab": {},
    "colab_type": "code",
    "id": "tnDkA5RHffiZ",
    "outputId": "bc98cb37-c466-400a-90de-9c7e3cb5b200"
   },
   "outputs": [
    {
     "name": "stdout",
     "output_type": "stream",
     "text": [
      "Py\n",
      "tho\n",
      "thon\n",
      "Pyt\n"
     ]
    }
   ],
   "source": [
    "print(word[0:2])  # characters from position 0 (included) to 2 (excluded)\n",
    "\n",
    "print(word[2:5])  # characters from position 2 (included) to 5 (excluded)\n",
    "\n",
    "print(word[2:])  # characters from position 2 (included) to the end\n",
    "\n",
    "print(word[:3])  # characters from the beginning to the position 3 (excluded)"
   ]
  },
  {
   "cell_type": "markdown",
   "metadata": {
    "colab_type": "text",
    "id": "i381mJ14ffie"
   },
   "source": [
    "### Including external variables in a string\n",
    "\n",
    "Strings can be used as fixed template in which one or more variable can added. One way to do this is with the method `format()`."
   ]
  },
  {
   "cell_type": "code",
   "execution_count": null,
   "metadata": {
    "colab": {
     "base_uri": "https://localhost:8080/",
     "height": 72
    },
    "colab_type": "code",
    "executionInfo": {
     "elapsed": 1304,
     "status": "ok",
     "timestamp": 1568389499249,
     "user": {
      "displayName": "Andrea Mazzolini",
      "photoUrl": "https://lh3.googleusercontent.com/a-/AAuE7mARm6YUMjM1WqoWB9DeJSCtXhxEjR6a9chPFNuT=s64",
      "userId": "17503038082596243982"
     },
     "user_tz": -120
    },
    "id": "cA1fUt7oSOKz",
    "outputId": "3c38baa0-afeb-40cf-86a0-22bb1dd6ee84"
   },
   "outputs": [
    {
     "name": "stdout",
     "output_type": "stream",
     "text": [
      "The value of my function at 0 is 0.0\n",
      "The value of my function at 1 is 1.0\n",
      "The value of my function at 2 is 1.4142135623730951\n"
     ]
    }
   ],
   "source": [
    "a_string = 'The value of my function at {} is {}'\n",
    " \n",
    "x = 0\n",
    "y = x**0.5\n",
    "print(a_string.format(x,y))\n",
    "\n",
    "x = 1\n",
    "y = x**0.5\n",
    "print(a_string.format(x,y))\n",
    "\n",
    "x = 2\n",
    "y = x**0.5\n",
    "print(a_string.format(x,y))"
   ]
  },
  {
   "cell_type": "markdown",
   "metadata": {
    "colab_type": "text",
    "id": "7_XW45TPTpiG"
   },
   "source": [
    "Thera are a lot of options to format a variable into a string https://docs.python.org/3/library/string.html#formatstrings. (Here for a more user friendly tutorial https://pyformat.info/).\n",
    "In the box below you can see an examples."
   ]
  },
  {
   "cell_type": "code",
   "execution_count": null,
   "metadata": {
    "colab": {
     "base_uri": "https://localhost:8080/",
     "height": 72
    },
    "colab_type": "code",
    "executionInfo": {
     "elapsed": 463,
     "status": "ok",
     "timestamp": 1568389573558,
     "user": {
      "displayName": "Andrea Mazzolini",
      "photoUrl": "https://lh3.googleusercontent.com/a-/AAuE7mARm6YUMjM1WqoWB9DeJSCtXhxEjR6a9chPFNuT=s64",
      "userId": "17503038082596243982"
     },
     "user_tz": -120
    },
    "id": "7hBL9KhfSoij",
    "outputId": "ea687288-81d5-4c65-b6f4-77a05fe3462e"
   },
   "outputs": [
    {
     "name": "stdout",
     "output_type": "stream",
     "text": [
      "The value of my function at 0 is 0.000\n",
      "The value of my function at 1 is 1.000\n",
      "The value of my function at 2 is 1.414\n"
     ]
    }
   ],
   "source": [
    "a_string = 'The value of my function at {:.0f} is {:.3f}'  # This indicates how many decimals to write\n",
    " \n",
    "x = 0\n",
    "y = x**0.5\n",
    "print(a_string.format(x,y))\n",
    "\n",
    "x = 1\n",
    "y = x**0.5\n",
    "print(a_string.format(x,y))\n",
    "\n",
    "x = 2\n",
    "y = x**0.5\n",
    "print(a_string.format(x,y))"
   ]
  },
  {
   "cell_type": "markdown",
   "metadata": {
    "colab": {},
    "colab_type": "code",
    "id": "mE-cZJyRTix2"
   },
   "source": [
    "## Lists\n",
    "\n",
    "The first data structure we see is a list. This is one way of storing multiple variables in a single object."
   ]
  },
  {
   "cell_type": "code",
   "execution_count": 3,
   "metadata": {},
   "outputs": [
    {
     "name": "stdout",
     "output_type": "stream",
     "text": [
      "[1, 4, 9, 16, 25]\n"
     ]
    }
   ],
   "source": [
    "squares = [1, 4, 9, 16, 25]  # build a list using square brakets\n",
    "print(squares)"
   ]
  },
  {
   "cell_type": "markdown",
   "metadata": {},
   "source": [
    "Differently from the standard programming languages, lists can store variables of different types."
   ]
  },
  {
   "cell_type": "code",
   "execution_count": 4,
   "metadata": {},
   "outputs": [
    {
     "name": "stdout",
     "output_type": "stream",
     "text": [
      "[1, 2.0, 'a', 'ciao']\n"
     ]
    }
   ],
   "source": [
    "a_list = [1, 2.0, 'a', 'ciao']\n",
    "print(a_list)"
   ]
  },
  {
   "cell_type": "markdown",
   "metadata": {},
   "source": [
    "### Indexing and slicing\n",
    "\n",
    "It works exactly as for the strings."
   ]
  },
  {
   "cell_type": "code",
   "execution_count": 6,
   "metadata": {},
   "outputs": [
    {
     "name": "stdout",
     "output_type": "stream",
     "text": [
      "1\n",
      "25\n",
      "[9, 16, 25]\n",
      "[1, 4, 9, 16, 25]\n"
     ]
    }
   ],
   "source": [
    "print(squares[0])  # indexing returns the item\n",
    "\n",
    "print(squares[-1])  # getting the last element\n",
    "\n",
    "print(squares[-3:])  # slicing returns a new list\n",
    "\n",
    "print(squares[:])"
   ]
  },
  {
   "cell_type": "markdown",
   "metadata": {},
   "source": [
    "### Modifying a list\n",
    "\n",
    "Some useful functions are listed below, for more details see the official Python documentation linked above."
   ]
  },
  {
   "cell_type": "code",
   "execution_count": 7,
   "metadata": {},
   "outputs": [
    {
     "name": "stdout",
     "output_type": "stream",
     "text": [
      "[1, 4, 9, 16, 25, 36, 49]\n",
      "[1, 4, 9, 16, 25, 36, 49, 81]\n",
      "[1, 4, 9, 16, 25, 36, 49, 65, 81]\n",
      "[1, 4, 9, 16, 25, 36, 49, 64, 81]\n"
     ]
    }
   ],
   "source": [
    "squares = [1, 4, 9, 16, 25]\n",
    "\n",
    "squares = squares + [36, 49]  # Concatenating as for strings\n",
    "print(squares)\n",
    "\n",
    "squares.append(81)  # Adding an element at the end of the list\n",
    "print(squares)\n",
    "\n",
    "squares.insert(7, 65)  # Adding an element in a specific position\n",
    "print(squares)\n",
    "\n",
    "squares[-2] = 64 # Modifying a single value\n",
    "print(squares)"
   ]
  },
  {
   "cell_type": "markdown",
   "metadata": {},
   "source": [
    "### Deleting elements\n"
   ]
  },
  {
   "cell_type": "code",
   "execution_count": 8,
   "metadata": {},
   "outputs": [
    {
     "name": "stdout",
     "output_type": "stream",
     "text": [
      "[1, 4, 16, 25]\n",
      "[16, 25]\n"
     ]
    }
   ],
   "source": [
    "squares = [1, 4, 9, 16, 25]\n",
    "\n",
    "del(squares[2])  # Deleting the third element of the list\n",
    "print(squares)\n",
    "\n",
    "del(squares[:2]) # Deleting the first two elements\n",
    "print(squares)"
   ]
  },
  {
   "cell_type": "markdown",
   "metadata": {},
   "source": [
    "### Length\n"
   ]
  },
  {
   "cell_type": "code",
   "execution_count": 9,
   "metadata": {},
   "outputs": [
    {
     "name": "stdout",
     "output_type": "stream",
     "text": [
      "2\n",
      "4\n"
     ]
    }
   ],
   "source": [
    "l = len(squares)  # Function to compute the length of a list\n",
    "print(l)\n",
    "\n",
    "string = \"ciao\"\n",
    "print (len(string))  # It works also for strings and other data structures "
   ]
  },
  {
   "cell_type": "markdown",
   "metadata": {},
   "source": [
    "### List of lists\n",
    "\n",
    "It is possible to create nested structures."
   ]
  },
  {
   "cell_type": "code",
   "execution_count": 10,
   "metadata": {},
   "outputs": [
    {
     "name": "stdout",
     "output_type": "stream",
     "text": [
      "[['a', 'b', 'c'], [1, 2, 3, 4], 9]\n"
     ]
    }
   ],
   "source": [
    "a = ['a', 'b', 'c']\n",
    "n = [1, 2, 3, 4]\n",
    "x = [a, n, 9]\n",
    "print(x)"
   ]
  },
  {
   "cell_type": "code",
   "execution_count": 11,
   "metadata": {},
   "outputs": [
    {
     "name": "stdout",
     "output_type": "stream",
     "text": [
      "[1, 2, 3, 4]\n",
      "[3, 4]\n"
     ]
    }
   ],
   "source": [
    "print(x[1])  # The first index calls the whole sub-list\n",
    "\n",
    "print(x[1][2:])  # The second index calls the elements of the sub-list"
   ]
  },
  {
   "cell_type": "markdown",
   "metadata": {},
   "source": [
    "### Membership testing\n",
    "\n",
    "Check if an element is in the list"
   ]
  },
  {
   "cell_type": "code",
   "execution_count": 13,
   "metadata": {},
   "outputs": [
    {
     "name": "stdout",
     "output_type": "stream",
     "text": [
      "True\n",
      "False\n"
     ]
    }
   ],
   "source": [
    "answer = 1 in [1,2,3,4]\n",
    "print(answer)\n",
    "\n",
    "answer = 5 in [1,2,3,4]\n",
    "print(answer)"
   ]
  },
  {
   "cell_type": "markdown",
   "metadata": {},
   "source": [
    "## Dictionaries\n",
    "\n",
    "Unlike lists, which are indexed by a range of numbers, dictionaries are indexed by keys, which can be, for example, numbers or strings.\n",
    "\n",
    "### Building them"
   ]
  },
  {
   "cell_type": "code",
   "execution_count": 56,
   "metadata": {},
   "outputs": [
    {
     "name": "stdout",
     "output_type": "stream",
     "text": [
      "{'jack': 4098, 'tom': 4139}\n",
      "4098\n"
     ]
    }
   ],
   "source": [
    "tel = {'jack': 4098, 'tom': 4139}  # Build dictionaries with curly brackets\n",
    "print(tel)\n",
    "\n",
    "print(tel['jack'])  # Indexing is now done through a key"
   ]
  },
  {
   "cell_type": "code",
   "execution_count": 57,
   "metadata": {},
   "outputs": [
    {
     "name": "stdout",
     "output_type": "stream",
     "text": [
      "{'jack': 4098, 'tom': 4139}\n"
     ]
    }
   ],
   "source": [
    "tel = dict((('jack', 4098), ('tom', 4139)))  # Alternative way to define a dictionary\n",
    "print(tel)"
   ]
  },
  {
   "cell_type": "code",
   "execution_count": 58,
   "metadata": {},
   "outputs": [
    {
     "name": "stdout",
     "output_type": "stream",
     "text": [
      "['jack', 'tom']\n",
      "dict_values([4098, 4139])\n"
     ]
    }
   ],
   "source": [
    "print(list(tel))  # casting the dict to a list returns the keys\n",
    "\n",
    "print(tel.values())  # The value method returns the values"
   ]
  },
  {
   "cell_type": "markdown",
   "metadata": {},
   "source": [
    "### Modifying a dictionary\n"
   ]
  },
  {
   "cell_type": "code",
   "execution_count": 60,
   "metadata": {},
   "outputs": [
    {
     "name": "stdout",
     "output_type": "stream",
     "text": [
      "{'tom': 4139, 'jonh': 4321, 'jack': 1234}\n",
      "{'tom': 4139, 'jonh': 4321, 'jack': 1234}\n",
      "{'tom': 4139, 'jonh': 4321}\n"
     ]
    }
   ],
   "source": [
    "tel['jack'] = 1234  # Modify through key indexing\n",
    "print (tel)\n",
    "\n",
    "tel['jonh'] = 4321  # If the key doesn't exist, a new entry is added\n",
    "print (tel)\n",
    "\n",
    "del(tel['jack'])  # Delete an element\n",
    "print (tel)\n"
   ]
  },
  {
   "cell_type": "markdown",
   "metadata": {},
   "source": [
    "## Other structures\n",
    "\n",
    "### Tuple\n",
    "\n",
    "Very similar to lists."
   ]
  },
  {
   "cell_type": "code",
   "execution_count": 61,
   "metadata": {},
   "outputs": [
    {
     "name": "stdout",
     "output_type": "stream",
     "text": [
      "(12345, 54321, 'hello!')\n",
      "(54321, 'hello!')\n"
     ]
    }
   ],
   "source": [
    "tup = (12345, 54321, 'hello!')  # Built with round brackets\n",
    "\n",
    "print(tup)\n",
    "\n",
    "print(tup[1:])  # Normal indexing and slicing"
   ]
  },
  {
   "cell_type": "markdown",
   "metadata": {},
   "source": [
    "But they are *immutable*: they cannot be modified by indexing:"
   ]
  },
  {
   "cell_type": "code",
   "execution_count": 62,
   "metadata": {},
   "outputs": [
    {
     "ename": "TypeError",
     "evalue": "'tuple' object does not support item assignment",
     "output_type": "error",
     "traceback": [
      "\u001b[0;31m---------------------------------------------------------------------------\u001b[0m",
      "\u001b[0;31mTypeError\u001b[0m                                 Traceback (most recent call last)",
      "Input \u001b[0;32mIn [62]\u001b[0m, in \u001b[0;36m<cell line: 1>\u001b[0;34m()\u001b[0m\n\u001b[0;32m----> 1\u001b[0m \u001b[43mtup\u001b[49m\u001b[43m[\u001b[49m\u001b[38;5;241;43m1\u001b[39;49m\u001b[43m]\u001b[49m \u001b[38;5;241m=\u001b[39m \u001b[38;5;241m33\u001b[39m\n",
      "\u001b[0;31mTypeError\u001b[0m: 'tuple' object does not support item assignment"
     ]
    }
   ],
   "source": [
    "tup[1] = 33"
   ]
  },
  {
   "cell_type": "markdown",
   "metadata": {},
   "source": [
    "They are typically used for multiple assignments"
   ]
  },
  {
   "cell_type": "code",
   "execution_count": 63,
   "metadata": {},
   "outputs": [
    {
     "name": "stdout",
     "output_type": "stream",
     "text": [
      "1\n",
      "2\n",
      "3\n"
     ]
    }
   ],
   "source": [
    "a,b,c = (1,2,3)\n",
    "print (a)\n",
    "print (b)\n",
    "print (c)"
   ]
  },
  {
   "cell_type": "markdown",
   "metadata": {},
   "source": [
    "And can also be used as keys for the dictionaries (the list cannot)"
   ]
  },
  {
   "cell_type": "code",
   "execution_count": 65,
   "metadata": {},
   "outputs": [
    {
     "name": "stdout",
     "output_type": "stream",
     "text": [
      "{(1, 0): 'a', (0, 0): 'b'}\n",
      "a\n"
     ]
    }
   ],
   "source": [
    "d = {(1,0) : 'a' , (0,0) : 'b'}\n",
    "print(d)\n",
    "print(d[(1,0)])"
   ]
  },
  {
   "cell_type": "markdown",
   "metadata": {},
   "source": [
    "### Sets\n",
    "\n",
    "A set is an unordered collection with no duplicate elements.\n"
   ]
  },
  {
   "cell_type": "code",
   "execution_count": 66,
   "metadata": {},
   "outputs": [
    {
     "name": "stdout",
     "output_type": "stream",
     "text": [
      "{'b', 'a', 'c'}\n"
     ]
    }
   ],
   "source": [
    "s = set(('a', 'a', 'b', 'c')) # Multiple elements are automatically deleted during construction\n",
    "print (s)"
   ]
  },
  {
   "cell_type": "markdown",
   "metadata": {},
   "source": [
    "Set operations\n"
   ]
  },
  {
   "cell_type": "code",
   "execution_count": 67,
   "metadata": {},
   "outputs": [
    {
     "name": "stdout",
     "output_type": "stream",
     "text": [
      "{'a', 'c', 'd', 'r', 'b'}\n",
      "{'b', 'd', 'r'}\n",
      "{'a', 'c', 'd', 'r', 'l', 'b', 'm', 'z'}\n",
      "{'a', 'c'}\n",
      "{'b', 'd', 'm', 'r', 'z', 'l'}\n"
     ]
    }
   ],
   "source": [
    "a = set('abracadabra')\n",
    "b = set('alacazam')\n",
    "print(a)                                  # unique letters in a\n",
    "\n",
    "print(a - b)                              # letters in a but not in b\n",
    "\n",
    "print(a | b)                              # letters in a or b or both\n",
    "\n",
    "print(a & b)                              # letters in both a and b\n",
    "\n",
    "print(a ^ b)                              # letters in a or b but not both"
   ]
  },
  {
   "cell_type": "markdown",
   "metadata": {},
   "source": [
    "## True or false?\n",
    "\n",
    "### Boolean operators\n"
   ]
  },
  {
   "cell_type": "code",
   "execution_count": 34,
   "metadata": {},
   "outputs": [
    {
     "name": "stdout",
     "output_type": "stream",
     "text": [
      "False\n",
      "True\n",
      "True\n",
      "False\n"
     ]
    }
   ],
   "source": [
    "print(1 > 2)\n",
    "\n",
    "print(1 < 2)\n",
    "\n",
    "print(2 == 2)\n",
    "\n",
    "print(1 != 1) # Different"
   ]
  },
  {
   "cell_type": "code",
   "execution_count": 35,
   "metadata": {},
   "outputs": [
    {
     "name": "stdout",
     "output_type": "stream",
     "text": [
      "True\n",
      "False\n",
      "False\n"
     ]
    }
   ],
   "source": [
    "print(1 <= 1 or 2 > 3)  # or\n",
    "\n",
    "print(1 <= 1 and 2 > 3)  # and\n",
    "\n",
    "print(not 1 == 1) # not"
   ]
  },
  {
   "cell_type": "markdown",
   "metadata": {},
   "source": [
    "### <i>if</i> statement\n",
    "\n",
    "The body of statements in Python is <b>indented</b>: they are spaced from the beginning of the line by a tab."
   ]
  },
  {
   "cell_type": "code",
   "execution_count": 51,
   "metadata": {},
   "outputs": [
    {
     "name": "stdout",
     "output_type": "stream",
     "text": [
      "More\n"
     ]
    }
   ],
   "source": [
    "x = 11\n",
    "\n",
    "if x < 0:\n",
    "  x = 0\n",
    "  print('Negative changed to zero')\n",
    "elif x == 0:  # elif stands for else if\n",
    "  print('Zero')\n",
    "elif x == 1:\n",
    "  print('Single')\n",
    "else:\n",
    "  print('More')"
   ]
  },
  {
   "cell_type": "markdown",
   "metadata": {},
   "source": [
    "## Copying variables\n",
    "\n",
    "In Python (and many other languages), it is important to understand the difference between assigning a copy using ```=```, a **shallow copy**, and a **deep copy**. \n",
    "\n",
    "- The operator ```=``` points your new variable to the existing object, it does not create a new oject. \n",
    "- A shallow copy creates a new object that contains references to the original object. \n",
    "- A deep copy creates a new object that contains copies of the original object, there are no references to the original object. \n",
    "\n",
    "To demonstrate the difference, we can use the operator ```id()``` to check the identity of each type of copy. The output of this operator will tell us whether the object within a copy contains a reference to the original  \n",
    "\n",
    "First, we will use the operator ```=```."
   ]
  },
  {
   "cell_type": "code",
   "execution_count": 52,
   "metadata": {},
   "outputs": [
    {
     "name": "stdout",
     "output_type": "stream",
     "text": [
      "True\n",
      "True\n"
     ]
    }
   ],
   "source": [
    "a = [[0,1,2], [0,2,4]]\n",
    "b = a\n",
    "\n",
    "print(id(a) == id(b))          # True = b is the same object as a\n",
    "print(id(a[0]) == id(b[0]))    # True = b[0] is the same object as a[0]\n",
    "\n"
   ]
  },
  {
   "cell_type": "markdown",
   "metadata": {},
   "source": [
    "Next, we will perform a shallow copy."
   ]
  },
  {
   "cell_type": "code",
   "execution_count": 53,
   "metadata": {},
   "outputs": [
    {
     "name": "stdout",
     "output_type": "stream",
     "text": [
      "False\n",
      "True\n"
     ]
    }
   ],
   "source": [
    "import copy # we will need this module to perform shallow and deep copies\n",
    "\n",
    "b = copy.copy(a)\n",
    "\n",
    "print(id(a) == id(b))          # False = b is now a new object\n",
    "print(id(a[0]) == id(b[0]))    # True = b[0] is the same object as a[0]\n"
   ]
  },
  {
   "cell_type": "markdown",
   "metadata": {},
   "source": [
    "Finally, a deep copy."
   ]
  },
  {
   "cell_type": "code",
   "execution_count": 54,
   "metadata": {},
   "outputs": [
    {
     "name": "stdout",
     "output_type": "stream",
     "text": [
      "False\n",
      "False\n"
     ]
    }
   ],
   "source": [
    "b = copy.deepcopy(a)\n",
    "\n",
    "print(id(a) == id(b))          # False = b is now a new object\n",
    "print(id(a[0]) == id(b[0]))    # False - b[0] is now a new object\n"
   ]
  },
  {
   "cell_type": "code",
   "execution_count": null,
   "metadata": {},
   "outputs": [],
   "source": []
  }
 ],
 "metadata": {
  "colab": {
   "collapsed_sections": [],
   "name": "1 - Numbers and strings.ipynb",
   "provenance": []
  },
  "kernelspec": {
   "display_name": "Python 3",
   "language": "python",
   "name": "python3"
  },
  "language_info": {
   "codemirror_mode": {
    "name": "ipython",
    "version": 3
   },
   "file_extension": ".py",
   "mimetype": "text/x-python",
   "name": "python",
   "nbconvert_exporter": "python",
   "pygments_lexer": "ipython3",
   "version": "3.8.8"
  }
 },
 "nbformat": 4,
 "nbformat_minor": 1
}
