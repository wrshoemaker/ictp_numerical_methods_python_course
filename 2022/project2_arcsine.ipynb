{
  "nbformat": 4,
  "nbformat_minor": 0,
  "metadata": {
    "colab": {
      "provenance": [],
      "collapsed_sections": []
    },
    "kernelspec": {
      "name": "python3",
      "display_name": "Python 3"
    },
    "language_info": {
      "name": "python"
    }
  },
  "cells": [
    {
      "cell_type": "markdown",
      "source": [],
      "metadata": {
        "id": "EXo1DkRozNci"
      }
    },
    {
      "cell_type": "markdown",
      "source": [
        "### 1D Random Walk \n",
        "\n",
        "Random walks are commonly used to model biological dynamics at the population, cellular, and molecular level (Berg, 1993). Often it is possible to sufficiently model the dynamics of a biological process using a single dimension. Here, you will simulate the dynamics of a 1D random walk (i.e., coin-flipping) and calculate quantities that capture essential features of random walks.  \n",
        "\n",
        "At each step a random variable $s_{i}$ is independently and identically drawn as follows\n",
        "\n",
        "$s_{i} = \n",
        "\\begin{cases}\n",
        " & +1 \\text{ with probability} \\, p  \\\\\n",
        " & -1 \\text{ with probability} \\, 1-p \n",
        "\\end{cases}$\n",
        "\n",
        "\n",
        "The sequence of $s_{i}$ over T steps constitutes a single random walk: $s_{1}, s_{2},.., s_{T}$\n",
        "\n",
        "By taking the sum of the sequence of the sequence we can calculate the net distance of the walk $S(T) = \\sum_{t=0}^{T}s(t)$, the expectation of which should be zero if the walk is unbiases ($p=0.5$). Below are the objectives of the assignment\n",
        "\n",
        "1) Generate a large number of random walks with $p=0.5$ and $T=1,000$ steps and calculate $S(T)$ for each walk. Plot the distribution of $S(T)$. Using the definition of $s_{i}$, propose a probability distribution for the empirical distribution. Why is this a reasonable distribution?\n",
        "\n",
        "\n",
        "2) Compute the second arcsine law\n",
        "\n",
        "Arcsine laws are a collection of patterns that hold for 1D random walks. Here you will you calculate the second arcinse law, which concerns the time until a 1D random walk reaches the origin ($T_{0}$). The quantity $T_{0}$ follows the cumulative distribution \n",
        "\n",
        "$P(T_{0} \\leq x) = \\frac{2}{\\pi} \\text{arcsin}(\\sqrt(x))$\n",
        "\n",
        "Simulate a large nmber of random walks with $p=0.5$ and $T=1,000$ steps and calculate $T_{\\Delta}$ for each one. Plot the distribution of $T_{0}$. Does it follow the arcsine law? Why should the distribution of $T_{0}$ have this pattern?\n",
        "\n",
        "\n",
        "3) Compute the third arcsine law\n",
        "\n",
        "The third arcise law concerns the time at which $S(t)$ is at its maximum value $T_{\\text{max}}$. Again, the distribution should follow an arcsine law. \n",
        "\n",
        "$P(T_{\\text{max}} \\leq x) = \\frac{2}{\\pi} \\text{arcsin}(\\sqrt(x))$\n",
        "\n",
        "Run a simulation to demonstrate the case. Show that this result is robust to biased random walks (i.e., p \\neq 0.5). Why do you think that the arcsine law is capable of capturing multiple patterns?\n",
        "\n",
        "\n",
        "Like all of these projects, we ask that you think of and perform additional analyses that you find interesting, time permitting. Relevant supplemental material for this exercise can be found in the first chapter of Feller (2008). \n",
        "\n",
        "\n",
        "### References\n",
        "\n",
        "Berg, H. C. (1993). Random walks in biology. In Random Walks in Biology. Princeton University Press.\n",
        "\n",
        "Feller, W. (2008). An introduction to probability theory and its applications, vol 1. John Wiley & Sons.\n",
        "\n"
      ],
      "metadata": {
        "id": "wJ6QXchWR0QJ"
      }
    },
    {
      "cell_type": "code",
      "source": [],
      "metadata": {
        "id": "H_dypizAR0Fd"
      },
      "execution_count": null,
      "outputs": []
    },
    {
      "cell_type": "code",
      "execution_count": null,
      "metadata": {
        "id": "-CTctL7-Ry--"
      },
      "outputs": [],
      "source": []
    }
  ]
}