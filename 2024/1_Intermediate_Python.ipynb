{
  "cells": [
    {
      "cell_type": "markdown",
      "id": "eed68ae2",
      "metadata": {
        "id": "eed68ae2"
      },
      "source": [
        "# 1 - Intermediate Python\n",
        "\n",
        "<b>Summary</b>:\n",
        "> * Loops\n",
        ">> * `while`\n",
        ">> * `for`\n",
        ">> * `range` function\n",
        ">> * `zip`/`enumerate` functions\n",
        ">> * `break` statement\n",
        ">> * List comprehensions\n",
        "> * Functions\n",
        ">> * Defining a function\n",
        ">> * `return` statement\n",
        ">> * Documentation strings\n",
        ">> * Default arguments\n",
        "> * Classes\n",
        ">> * Creating classes\n",
        ">> * Working with classes\n",
        "> * Reading and writing files (locally)\n",
        "\n",
        "For more details see:\n",
        "- https://docs.python.org/3/tutorial/controlflow.html\n",
        "- https://docs.python.org/3/tutorial/controlflow.html#defining-functions\n",
        "- https://docs.python.org/3.7/tutorial/classes.html\n",
        "- https://docs.python.org/3/tutorial/inputoutput.html"
      ]
    },
    {
      "cell_type": "markdown",
      "id": "ba55230b",
      "metadata": {
        "id": "ba55230b"
      },
      "source": [
        "## Loops\n",
        "\n",
        "### `while`\n",
        "\n",
        "It repeats the body until the condition remains true."
      ]
    },
    {
      "cell_type": "code",
      "execution_count": null,
      "id": "dc87dcd5",
      "metadata": {
        "id": "dc87dcd5"
      },
      "outputs": [],
      "source": [
        "a = 0\n",
        "\n",
        "while a < 5:\n",
        "  print(a)\n",
        "  a = a+1"
      ]
    },
    {
      "cell_type": "markdown",
      "id": "191e9efa",
      "metadata": {
        "id": "191e9efa"
      },
      "source": [
        "### `for`\n",
        "Iterates over the objects in a list/tuple."
      ]
    },
    {
      "cell_type": "code",
      "execution_count": null,
      "id": "64c5651a",
      "metadata": {
        "id": "64c5651a"
      },
      "outputs": [],
      "source": [
        "words = ['cat', 'window', 'defenestrate']\n",
        "for w in words:\n",
        "  print(w, len(w))"
      ]
    },
    {
      "cell_type": "markdown",
      "id": "9768d5c8",
      "metadata": {
        "id": "9768d5c8"
      },
      "source": [
        "Or through dictionaries."
      ]
    },
    {
      "cell_type": "code",
      "execution_count": null,
      "id": "32006365",
      "metadata": {
        "id": "32006365"
      },
      "outputs": [],
      "source": [
        "age = {'jack' : 30, 'kate' : 24, 'jane' : 26}\n",
        "\n",
        "for k in age:  # Iterate through the keys\n",
        "  print (k)\n",
        "\n",
        "for k, val in age.items():  # Iterate through keys and values\n",
        "  print(k, val)"
      ]
    },
    {
      "cell_type": "markdown",
      "source": [
        "Sometimes one needs to iterate over couples of lists, using the zip function.\n",
        "Consider the case as before, where names are included in a list, and ages in a different one.\n"
      ],
      "metadata": {
        "id": "LG6MfBwYepjo"
      },
      "id": "LG6MfBwYepjo"
    },
    {
      "cell_type": "code",
      "source": [
        "names = ['jack', 'kate', 'jane']\n",
        "ages = [30, 24, 26]\n",
        "\n",
        "for name, age in zip(names, ages):  # Iterate through both lists simultaneously\n",
        "  print (name, age)\n",
        "\n",
        "print(\" ... \")\n",
        "# Note what happens when the two lists have different lengths\n",
        "wrong_ages = [30, 24, 26, 99, 99]\n",
        "\n",
        "for name, age in zip(names, wrong_ages):  # Iterate through both lists simultaneously\n",
        "  print (name, age)\n"
      ],
      "metadata": {
        "id": "P42dDfkRe4Jw"
      },
      "id": "P42dDfkRe4Jw",
      "execution_count": null,
      "outputs": []
    },
    {
      "cell_type": "markdown",
      "source": [
        "The `enumerate` function allows to have a counter when iterating over a list."
      ],
      "metadata": {
        "id": "Uyy_Rv09fkMI"
      },
      "id": "Uyy_Rv09fkMI"
    },
    {
      "cell_type": "code",
      "source": [
        "fruits = ['apple', 'pear', 'lime', 'mango']\n",
        "\n",
        "for n, fruit in enumerate(fruits):\n",
        "  print(fruit, \" is the #\", n, \" element of the list\")"
      ],
      "metadata": {
        "id": "PtJ56YEWfrtp"
      },
      "id": "PtJ56YEWfrtp",
      "execution_count": null,
      "outputs": []
    },
    {
      "cell_type": "markdown",
      "id": "eb712f25",
      "metadata": {
        "id": "eb712f25"
      },
      "source": [
        "### `range` function\n",
        "\n",
        "Iteration over a sequence of numbers."
      ]
    },
    {
      "cell_type": "code",
      "execution_count": null,
      "id": "9e619310",
      "metadata": {
        "id": "9e619310"
      },
      "outputs": [],
      "source": [
        "for i in range(3):\n",
        "  print(i)"
      ]
    },
    {
      "cell_type": "markdown",
      "id": "a8f4c53f",
      "metadata": {
        "id": "a8f4c53f"
      },
      "source": [
        "Try to see the documentation of the function `range`. Range can be used also with a second argument specifying the beginning of the sequence."
      ]
    },
    {
      "cell_type": "code",
      "execution_count": null,
      "id": "e7787f5d",
      "metadata": {
        "id": "e7787f5d"
      },
      "outputs": [],
      "source": [
        "range?"
      ]
    },
    {
      "cell_type": "code",
      "execution_count": null,
      "id": "eee99c27",
      "metadata": {
        "id": "eee99c27"
      },
      "outputs": [],
      "source": [
        "for i in range(5, 10):\n",
        "  print(i)"
      ]
    },
    {
      "cell_type": "markdown",
      "id": "06d25b5a",
      "metadata": {
        "id": "06d25b5a"
      },
      "source": [
        "The third argument defines the step"
      ]
    },
    {
      "cell_type": "code",
      "execution_count": null,
      "id": "ed11768d",
      "metadata": {
        "id": "ed11768d"
      },
      "outputs": [],
      "source": [
        "for i in range(5, 10, 2):\n",
        "  print(i)"
      ]
    },
    {
      "cell_type": "markdown",
      "id": "bc11b5be",
      "metadata": {
        "id": "bc11b5be"
      },
      "source": [
        "### `break` statement\n",
        "\n",
        "`break` stops the iteration of a loop."
      ]
    },
    {
      "cell_type": "code",
      "execution_count": null,
      "id": "941f4544",
      "metadata": {
        "id": "941f4544"
      },
      "outputs": [],
      "source": [
        "counter = 0\n",
        "\n",
        "while True:  # It iterates infinitely many times\n",
        "  counter += 1\n",
        "  print (counter)\n",
        "  if counter > 5:\n",
        "    break"
      ]
    },
    {
      "cell_type": "code",
      "execution_count": null,
      "id": "a2b6bbf3",
      "metadata": {
        "id": "a2b6bbf3"
      },
      "outputs": [],
      "source": [
        "n = 38\n",
        "is_a_prime = True\n",
        "\n",
        "for x in range(2, n):  # Iteration over all the possible factors of n\n",
        "  if n % x == 0:  # If x is a factor of n the iteration stops\n",
        "    print(n, 'is not a prime number, it equals', x, '*', n//x)\n",
        "    is_a_prime = False\n",
        "    break\n",
        "\n",
        "if is_a_prime:\n",
        "  print(n, 'is a prime number')"
      ]
    },
    {
      "cell_type": "markdown",
      "id": "9b19a8b3",
      "metadata": {
        "id": "9b19a8b3"
      },
      "source": [
        "### List comprehensions\n",
        "\n",
        "A concise way to create lists through loops."
      ]
    },
    {
      "cell_type": "code",
      "execution_count": null,
      "id": "18243563",
      "metadata": {
        "id": "18243563"
      },
      "outputs": [],
      "source": [
        "squares = [x**2 for x in range(10)]\n",
        "print (squares)"
      ]
    },
    {
      "cell_type": "markdown",
      "id": "fb4fc53a",
      "metadata": {
        "id": "fb4fc53a"
      },
      "source": [
        "Which is equivalent to:"
      ]
    },
    {
      "cell_type": "code",
      "execution_count": null,
      "id": "1087749d",
      "metadata": {
        "id": "1087749d"
      },
      "outputs": [],
      "source": [
        "squares = []\n",
        "for x in range(10):\n",
        "    squares.append(x**2)\n",
        "\n",
        "print (squares)"
      ]
    },
    {
      "cell_type": "markdown",
      "id": "7e1042d9",
      "metadata": {
        "id": "7e1042d9"
      },
      "source": [
        "Comprehensions can be as complicated as you want, including also `if` statements."
      ]
    },
    {
      "cell_type": "code",
      "execution_count": null,
      "id": "bd2cb221",
      "metadata": {
        "id": "bd2cb221"
      },
      "outputs": [],
      "source": [
        "data = [[x, y] for x in [1,2,3] for y in [3,1,4] if x != y]\n",
        "print (data)"
      ]
    },
    {
      "cell_type": "markdown",
      "id": "99953f88",
      "metadata": {
        "id": "99953f88"
      },
      "source": [
        "And can be used to create also dictionaries"
      ]
    },
    {
      "cell_type": "code",
      "execution_count": null,
      "id": "7b704936",
      "metadata": {
        "id": "7b704936"
      },
      "outputs": [],
      "source": [
        "d = {x: x**2 for x in (2, 4, 6)}\n",
        "print (d)"
      ]
    },
    {
      "cell_type": "markdown",
      "id": "482b64b1",
      "metadata": {
        "id": "482b64b1"
      },
      "source": [
        "### Defining a function\n",
        "\n",
        "It is defined with the statement `def`. The body is indented."
      ]
    },
    {
      "cell_type": "code",
      "execution_count": null,
      "id": "5e9e769a",
      "metadata": {
        "id": "5e9e769a"
      },
      "outputs": [],
      "source": [
        "def first_function():\n",
        "  print('hello')\n",
        "\n",
        "first_function()\n",
        "\n",
        "f = first_function  # The function can be stored in variables\n",
        "\n",
        "f()"
      ]
    },
    {
      "cell_type": "markdown",
      "id": "c1ce0d51",
      "metadata": {
        "id": "c1ce0d51"
      },
      "source": [
        "Arguments are passed through the round brackets"
      ]
    },
    {
      "cell_type": "code",
      "execution_count": null,
      "id": "d70893a7",
      "metadata": {
        "id": "d70893a7"
      },
      "outputs": [],
      "source": [
        "def print_my_info(name, nationality):\n",
        "  print('I\\'m {} from {}'.format(name, nationality))\n",
        "\n",
        "print_my_info('Andrea', 'Italy')"
      ]
    },
    {
      "cell_type": "markdown",
      "id": "765a0b55",
      "metadata": {
        "id": "765a0b55"
      },
      "source": [
        "### <i>return</i> statement"
      ]
    },
    {
      "cell_type": "code",
      "execution_count": null,
      "id": "6abb908e",
      "metadata": {
        "id": "6abb908e"
      },
      "outputs": [],
      "source": [
        "def fib(n):  # return Fibonacci series up to n\n",
        "    result = []\n",
        "    a, b = 0, 1\n",
        "    while a < n:\n",
        "        result.append(a)\n",
        "        a, b = b, a+b\n",
        "    return result  # the function returns a variable\n",
        "\n",
        "result = fib(100)\n",
        "print(result)"
      ]
    },
    {
      "cell_type": "markdown",
      "id": "bebff075",
      "metadata": {
        "id": "bebff075"
      },
      "source": [
        "It can be useful to return multiple variables"
      ]
    },
    {
      "cell_type": "code",
      "execution_count": null,
      "id": "552f9153",
      "metadata": {
        "id": "552f9153"
      },
      "outputs": [],
      "source": [
        "def get_circumference_and_area_of_circle(radius):\n",
        "    pi = 3.4159\n",
        "    return 2 * pi * radius, pi * radius * radius\n",
        "\n",
        "circ, area = get_circumference_and_area_of_circle(3)  # The two variables are implicitely packed in a tuple\n",
        "print(circ, area)"
      ]
    },
    {
      "cell_type": "markdown",
      "id": "6f99e562",
      "metadata": {
        "id": "6f99e562"
      },
      "source": [
        "### Documentation strings\n",
        "\n",
        "It is always a good habit to describe what the function does.\n",
        "It can be encoded inside the function with triple quotes:"
      ]
    },
    {
      "cell_type": "code",
      "execution_count": null,
      "id": "cbba5b25",
      "metadata": {
        "id": "cbba5b25"
      },
      "outputs": [],
      "source": [
        "def get_circumference_and_area_of_circle(radius):\n",
        "    \"\"\"\n",
        "    This function computes the circumference and\n",
        "    area of a circle given its radius\n",
        "    \"\"\"\n",
        "    pi = 3.4159\n",
        "    return 2 * pi * radius, pi * radius * radius\n"
      ]
    },
    {
      "cell_type": "markdown",
      "id": "26adca83",
      "metadata": {
        "id": "26adca83"
      },
      "source": [
        "The documentation can be inspected as for built-in methods"
      ]
    },
    {
      "cell_type": "code",
      "execution_count": null,
      "id": "e0ffdb77",
      "metadata": {
        "id": "e0ffdb77"
      },
      "outputs": [],
      "source": [
        "get_circumference_and_area_of_circle?"
      ]
    },
    {
      "cell_type": "markdown",
      "id": "07eac6d5",
      "metadata": {
        "id": "07eac6d5"
      },
      "source": [
        "Another way to see the documentation is to use the following method, which converts it to a string"
      ]
    },
    {
      "cell_type": "code",
      "execution_count": null,
      "id": "1a04f747",
      "metadata": {
        "id": "1a04f747"
      },
      "outputs": [],
      "source": [
        "print(get_circumference_and_area_of_circle.__doc__)"
      ]
    },
    {
      "cell_type": "markdown",
      "id": "e6c4017f",
      "metadata": {
        "id": "e6c4017f"
      },
      "source": [
        "### Default arguments"
      ]
    },
    {
      "cell_type": "code",
      "execution_count": null,
      "id": "5c5e68e6",
      "metadata": {
        "id": "5c5e68e6"
      },
      "outputs": [],
      "source": [
        "def evaluate_powers(n, power=2, print_result=True):\n",
        "    \"\"\"\n",
        "    Evaluates the power of the first n integers.\n",
        "    The default power is the square.\n",
        "    \"\"\"\n",
        "    powers = []\n",
        "    for i in range(n):\n",
        "        powers.append(i**power)\n",
        "    if print_result:\n",
        "        print(powers)\n",
        "    return powers"
      ]
    },
    {
      "cell_type": "code",
      "execution_count": null,
      "id": "031ba725",
      "metadata": {
        "id": "031ba725"
      },
      "outputs": [],
      "source": [
        "result = evaluate_powers(4)\n",
        "print(result)\n",
        "\n",
        "# Overriding the second default argument\n",
        "result = evaluate_powers(4, 3)\n",
        "print(result)\n",
        "\n",
        "# Overriding all the arguments\n",
        "result = evaluate_powers(4, 3, False)\n",
        "\n",
        "# Or a specific argument can be overrided as follows:\n",
        "result = evaluate_powers(4, print_result=False)"
      ]
    },
    {
      "cell_type": "code",
      "execution_count": null,
      "id": "qMhFzSgESV-t",
      "metadata": {
        "id": "qMhFzSgESV-t"
      },
      "outputs": [],
      "source": [
        "n_steps = 10\n",
        "\n",
        "for i in 10:\n",
        "  if i = 2:\n",
        "    total = +1"
      ]
    },
    {
      "cell_type": "markdown",
      "id": "89d9b0ea",
      "metadata": {
        "id": "89d9b0ea"
      },
      "source": [
        "## Classes\n",
        "\n",
        "### Why do we use Classes?\n",
        "\n",
        "Classes provide a means of bundling information about an object and object functions together. Creating a new class creates a new type of object, allowing new instances of that type to be made. Each class instance can have attributes attached to it. Class instances can also have methods (defined by its class) for modifying its state.\n",
        "\n",
        "To understand the need for creating a class, let’s consider an example. Let’s say you wanted to track the number of dogs which may have different attributes like breed and age. If a list is used, the first element could be the dog’s breed while the second element could represent its age. Let’s suppose there are 100 different dogs, then how would you know which element is supposed to be which? What if you wanted to add other properties to these dogs? This lacks organization and it demonstrates the need for classes.\n",
        "\n",
        "Class creates a user-defined data structure, which holds its own data members and member functions that can be accessed and used by creating an instance of that class. A class is like a blueprint for an object and how to work with it.\n",
        "\n",
        "### Creating a class\n",
        "\n",
        "\n",
        "Here are simple rules to create a class in Python:\n",
        "\n",
        "- Classes are created by keyword ```class```.\n",
        "- Attributes are the variables that belong to class.\n",
        "- Attributes are always visible and can be accessed using dot (.) operator. Eg.: Myclass.Myattribute\n",
        "- Attributes can be made not directly visible by adding a double underscore prefix to their name. Eg.: Myclass.__Hiddenattribute\n",
        "\n",
        "\n",
        "In the following example, the ```class``` keyword indicates that you are creating a class followed by the name of the class (Dog in this case).\n"
      ]
    },
    {
      "cell_type": "code",
      "execution_count": null,
      "id": "919ad2ca",
      "metadata": {
        "id": "919ad2ca"
      },
      "outputs": [],
      "source": [
        "class Dog:\n",
        "\n",
        "    # Class Variable\n",
        "    animal = 'dog'\n",
        "\n",
        "    # The init method or constructor\n",
        "    def __init__(self, breed):\n",
        "\n",
        "        # Instance Variable\n",
        "        self.breed = breed\n",
        "\n",
        "    # Adds an instance variable\n",
        "    def setColor(self, color):\n",
        "        self.color = color\n",
        "\n",
        "    # Retrieves instance variable\n",
        "    def getColor(self):\n",
        "        return self.color\n",
        "\n",
        "# Driver Code\n",
        "Rodger = Dog(\"pug\")\n",
        "Rodger.setColor(\"brown\")\n",
        "print(Rodger.getColor())"
      ]
    },
    {
      "cell_type": "markdown",
      "id": "b0c70837",
      "metadata": {
        "id": "b0c70837"
      },
      "source": [
        "The ```__init__``` method is a constructor. Constructors are used to initialize the state of an object. Like methods, a constructor also contains a collection of statements (i.e. instructions) that are executed when an oject is created. It is run as soon as an object of a class is instantiated. The method is useful to do any initialization you want to do with your object.\n",
        "\n",
        "The first argument of a method is often called ```self``` which represents the instance of the class. Calling it ```self``` is just a convention, but is considered best practice. Using the ```self``` keyword, we can access the attributes and methods of the class in python.\n",
        "\n",
        "\n",
        "We do not give a value for the parameter ```self``` when we call the method, Python provides it. If we have a method which takes no arguments, then we still have to have one argument. When we call a method of this object as ```myobject.method(arg1, arg2)```, this is automatically converted by Python into ```MyClass.method(myobject, arg1, arg2)```.\n",
        "\n",
        "\n",
        "\n"
      ]
    }
  ],
  "metadata": {
    "colab": {
      "provenance": []
    },
    "kernelspec": {
      "display_name": "Python 3 (ipykernel)",
      "language": "python",
      "name": "python3"
    },
    "language_info": {
      "codemirror_mode": {
        "name": "ipython",
        "version": 3
      },
      "file_extension": ".py",
      "mimetype": "text/x-python",
      "name": "python",
      "nbconvert_exporter": "python",
      "pygments_lexer": "ipython3",
      "version": "3.8.13"
    }
  },
  "nbformat": 4,
  "nbformat_minor": 5
}