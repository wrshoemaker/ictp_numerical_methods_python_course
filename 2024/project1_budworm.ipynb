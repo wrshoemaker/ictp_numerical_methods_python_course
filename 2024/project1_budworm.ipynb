{
  "nbformat": 4,
  "nbformat_minor": 0,
  "metadata": {
    "colab": {
      "provenance": []
    },
    "kernelspec": {
      "name": "python3",
      "display_name": "Python 3"
    },
    "language_info": {
      "name": "python"
    }
  },
  "cells": [
    {
      "cell_type": "markdown",
      "source": [
        "### Spruce Budworm\n",
        "\n",
        "A practical model which exhibits two positive linearly stable steady state populations is that for the spruce budworm which can, with ferocious efficiency, defoliate the balsam fir; it is a major problem in Canada. Ludwig et al. (\"Qualitative analysis of insect outbreak systems: the spruce budworm and forest\", 1978) considered the budworm population dynamics to be modelled by the equation:\n",
        "\n",
        "$$\n",
        "\\frac{d N}{d t} = r_B N(1-\\frac{N}{K_B})- p(N)\n",
        "$$\n",
        "\n",
        "Here $r_B$ is the linear birth rate of the budworm and $K_B$ is the carrying capacity which is related to the density of foliage (food) available on the trees. The $p(N)$-term represents predation, generally by birds: its qualitative form is important. Predation usually saturates for large enough $N$.\n",
        "A suggestion is to use $p(N) = \\frac{B N^2}{A^2 + N^2}$, which goes to zero for small $N$s and to $B/A^2$ if $N→∞$.\n",
        "\n",
        "As always, we should rewrite everything in dimensionless units:\n",
        "\n",
        "$$\n",
        "u = \\frac{N}{A}, \\, r = \\frac{A r_B}{B}, \\, q = \\frac{K_B}{A}, \\, \\tau = \\frac{B t}{A}\n",
        "$$\n",
        "\n",
        "Substituting, the equation becomes:\n",
        "\n",
        "$$\n",
        "\\frac{d u}{d \\tau} = r u (1-\\frac{u}{q}) - \\frac{ u^2 }{ 1 + u^2}\n",
        "$$\n",
        "\n",
        "Notice that there are only two parameters: $r$ and $q$. The solutions $u(\\tau)$ , their shape and characteristics will depend on $r$ and $q$.\n",
        "In particular, you should be able to find the steady states solutions, and understand their stability.\n",
        "\n",
        "In this project, you should study the model, and discuss the solutions / steady state solutions / stability of solutions as a function of the parameters $r$ and $q$.\n",
        "\n"
      ],
      "metadata": {
        "id": "HVnAlePvObS8"
      }
    },
    {
      "cell_type": "markdown",
      "source": [
        "## General questions:\n",
        "- Given an $r$ and a $q$, what is a typical shape of a trajectory? (Use the graphical analysis as in class)\n",
        "- How do the solutions depend on $r$ and $q$? (Are there transitions of regimes in the parameter space?)\n",
        "- How do the number of steady states depend on $r$ and $q$?\n",
        "- What is the meaning of $r$ and $q$ in the context of the model? The different regimes can be understood in biological terms?\n",
        "\n",
        "Try and use numerical data and its visualization to reproduce what you know about the model and showcase your analysis of it."
      ],
      "metadata": {
        "id": "J_XJ3DB5P_Qm"
      }
    },
    {
      "cell_type": "code",
      "source": [],
      "metadata": {
        "id": "cLIsDaPVVHl8"
      },
      "execution_count": null,
      "outputs": []
    }
  ]
}