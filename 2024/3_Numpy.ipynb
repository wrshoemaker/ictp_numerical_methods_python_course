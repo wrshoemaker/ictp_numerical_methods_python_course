{
 "cells": [
  {
   "cell_type": "markdown",
   "metadata": {
    "id": "twCnk7QhlC0y"
   },
   "source": [
    "# 3 - Using libraries\n",
    "\n",
    "A (software) library is a collection of files (called modules) that contains functions for use by other programs.\n",
    "\n",
    "Most of the power of Python is in the excellent libraries that can be found for free online, and that have already implemented many of the important algorithms/functions you will need during this Diploma.\n"
   ]
  },
  {
   "cell_type": "markdown",
   "metadata": {
    "id": "sGfMW7GzdRKy"
   },
   "source": [
    "# How do I install a library\n",
    "\n",
    "If not already present, a library can be installed in several ways. A simple one is to use the `pip` installer, which can be called in terminal or even in a jupyter cell.\n",
    "\n",
    "Let us see how we would install the library `numpy`.\n",
    "(In this case, it will be already installed).\n",
    "\n"
   ]
  },
  {
   "cell_type": "code",
   "execution_count": null,
   "metadata": {
    "id": "wyTyne8YdsBT"
   },
   "outputs": [],
   "source": [
    "# Install a pip package in the current Jupyter kernel\n",
    "import sys\n",
    "!{sys.executable} -m pip install numpy"
   ]
  },
  {
   "cell_type": "markdown",
   "metadata": {
    "id": "fBUXUkSFexPz"
   },
   "source": [
    "To import a library as a whole, we use the command `import`. Even if the library is installed, before we import it we cannot use it.\n",
    "\n"
   ]
  },
  {
   "cell_type": "code",
   "execution_count": null,
   "metadata": {
    "id": "NKpbzl0ee7S-"
   },
   "outputs": [],
   "source": [
    "import numpy"
   ]
  },
  {
   "cell_type": "markdown",
   "metadata": {
    "id": "_iyxcNndepN4"
   },
   "source": [
    "To learn the contents, we can use the `help` function"
   ]
  },
  {
   "cell_type": "code",
   "execution_count": null,
   "metadata": {
    "id": "SS2-DAi5eod7"
   },
   "outputs": [],
   "source": [
    "help(numpy)"
   ]
  },
  {
   "cell_type": "markdown",
   "metadata": {
    "id": "M9tQiXQcfPmk"
   },
   "source": [
    "When we import the whole library, to use its modules and functions, we must call them with the prefix. Let us try and call the function `zeros(2)` which returns an array of 2 zeros."
   ]
  },
  {
   "cell_type": "code",
   "execution_count": null,
   "metadata": {
    "id": "tLq2UJnmfO90"
   },
   "outputs": [],
   "source": [
    "zeros(2)"
   ]
  },
  {
   "cell_type": "code",
   "execution_count": null,
   "metadata": {
    "id": "FwTTw3h4frQw"
   },
   "outputs": [],
   "source": [
    "numpy.zeros(2)"
   ]
  },
  {
   "cell_type": "markdown",
   "metadata": {
    "id": "K6Ic0bewfvxY"
   },
   "source": [
    "To import only selected items from a library, we can use:\n",
    "```\n",
    "from ... import ...\n",
    "```\n",
    "Then we do not need to use prefix."
   ]
  },
  {
   "cell_type": "code",
   "execution_count": null,
   "metadata": {
    "id": "5I4Wu-_mf98s"
   },
   "outputs": [],
   "source": [
    "from numpy import zeros\n",
    "zeros(2)"
   ]
  },
  {
   "cell_type": "markdown",
   "metadata": {
    "id": "iMLkZRZRf8lF"
   },
   "source": [
    "\n",
    "\n",
    "We can also change the prefix. Conventionally, `numpy` is called `np`"
   ]
  },
  {
   "cell_type": "code",
   "execution_count": null,
   "metadata": {
    "colab": {
     "base_uri": "https://localhost:8080/"
    },
    "id": "VQ4SMmehfvGK",
    "outputId": "fe8fe1b7-0f1b-4bdd-f257-4d5dd024ed7f"
   },
   "outputs": [
    {
     "data": {
      "text/plain": [
       "array([0., 0.])"
      ]
     },
     "execution_count": 2,
     "metadata": {},
     "output_type": "execute_result"
    }
   ],
   "source": [
    "import numpy as np\n",
    "\n",
    "np.zeros(2)"
   ]
  },
  {
   "cell_type": "markdown",
   "metadata": {
    "id": "vsPEZaLbEjWE"
   },
   "source": [
    "# 3 - Numpy\n",
    "\n",
    "**Summary**\n",
    "\n",
    "> *   What is a numpy array (`array`)\n",
    ">> * Construction (`zeros`, `ones`, `arange`, `linspace`)\n",
    ">> * Array shape (`shape`)\n",
    ">> * Indexing and slicing\n",
    "> * Operations with arrays\n",
    ">> * Arithmentic operations (`dot`)\n",
    ">> * Universal functions (`sin`, `exp`, `sqrt`)\n",
    ">> * Operations among the array elements (`sum`, `min`, `mean`, `std`)\n",
    "> * Manipulating arrays\n",
    ">> * Changing the shape of an array (`reshape`)\n",
    ">> * Append (`append`)\n",
    ">> * Stacking together different arrays (`hstack`, `vstack`, `empty`)\n",
    "> * Random functions\n",
    ">> * Generating random data (`random.rand`, `random.randint`, `random.normal`, `random.poisson`)\n",
    ">> * Sampling (`random.shuffle`, `random.choice`)\n",
    "> * Why numpy instead of Python lists?\n",
    "\n",
    "\n",
    "\n",
    "\n",
    "\n",
    "\n",
    "\n",
    "For a more detailed tutorial see: https://numpy.org/devdocs/user/quickstart.html\n",
    "\n",
    "Official reference: https://docs.scipy.org/doc/numpy-1.16.0/reference/index.html"
   ]
  },
  {
   "cell_type": "markdown",
   "metadata": {
    "id": "PBUA6CAMEjWJ"
   },
   "source": [
    "## What is a numpy array"
   ]
  },
  {
   "cell_type": "markdown",
   "metadata": {
    "id": "a91TiU9BEjWM"
   },
   "source": [
    "Numpy is the core module for scientific computing. It manages **homogeneous multidimensional array** (homogeneous means that one array must contain only one type of variable, differetly from Python lists). Basically numpy arrays can do super fancy mathematical things with vector, matrices, and, in general, multi-dimensional objects.\n",
    "\n",
    "The module must be imported with the following command:\n"
   ]
  },
  {
   "cell_type": "code",
   "execution_count": null,
   "metadata": {
    "id": "txlbBqh4GI2B"
   },
   "outputs": [],
   "source": [
    "import numpy as np\n",
    "# the \"as\" statement specifies the local label referring to numpy.\n",
    "# The usual convention is to use \"np\", but you can choose whatever name you want.."
   ]
  },
  {
   "cell_type": "markdown",
   "metadata": {
    "id": "8P7LnQmcHKq5"
   },
   "source": [
    "### Construction\n",
    "\n",
    "Numpy arrays can be created from lists as follow:\n"
   ]
  },
  {
   "cell_type": "code",
   "execution_count": null,
   "metadata": {
    "id": "qSUt7zYRHRPT"
   },
   "outputs": [],
   "source": [
    "a1 = np.array([1,2,3,4,5])  # 1-d array from 1-d list\n",
    "print(a1)\n",
    "\n",
    "a2 = np.array([[1,2],[3,4]])  # 2-d array from a nested list\n",
    "print(a2)"
   ]
  },
  {
   "cell_type": "markdown",
   "metadata": {
    "id": "PjB2EH2rJVri"
   },
   "source": [
    "There exists several constructors for every need:"
   ]
  },
  {
   "cell_type": "code",
   "execution_count": null,
   "metadata": {
    "id": "Rqz6edTqIzrS"
   },
   "outputs": [],
   "source": [
    "a = np.zeros((2,5))  # Array of zeros. The argument specifies the size of each dimension.\n",
    "print(\"zeors\\n\", a)\n",
    "\n",
    "a = np.ones((4,3))  # Array of ones.\n",
    "print(\"ones\\n\", a)\n",
    "\n",
    "a = np.arange(2, 10, 2)  # Sequence of numbers (start included, stop excluded, step).\n",
    "print(\"arange\\n\", a)\n",
    "\n",
    "a = np.linspace(1, 30, 6)  # Sequence of numbers evenly spaced (start included, stop included, number of points).\n",
    "print(\"linspace\\n\", a)"
   ]
  },
  {
   "cell_type": "markdown",
   "metadata": {
    "id": "JIwRJrt4HvWr"
   },
   "source": [
    "### Array shape\n",
    "\n",
    "The array dimensions can be obtained with the `shape` property. In NumPy dimensions are called *axes*."
   ]
  },
  {
   "cell_type": "code",
   "execution_count": null,
   "metadata": {
    "id": "OKEGUB4XHbNS"
   },
   "outputs": [],
   "source": [
    "a = np.zeros(5)  # 1-d vector\n",
    "print(a.shape)\n",
    "\n",
    "a = np.zeros((3,2,4))  # 3-d vector\n",
    "print(a.shape)\n",
    "print(len(a))  # The len function reads only the number of elements in the first dimension/axis"
   ]
  },
  {
   "cell_type": "markdown",
   "metadata": {
    "id": "FglU9yKf6MkH"
   },
   "source": [
    "### Indexing and slicing\n",
    "\n",
    "An array can be red through indexing and slicing almost as a list"
   ]
  },
  {
   "cell_type": "code",
   "execution_count": null,
   "metadata": {
    "id": "yI4x8jSE6hL-"
   },
   "outputs": [],
   "source": [
    "m = np.array([[1,2,3],[4,5,6],[7,8,9]])\n",
    "print(\"Complete matrix\\n\", m)\n",
    "\n",
    "print(\"Getting one row\\n\", m[2])\n",
    "\n",
    "print(\"Getting one element\\n\", m[2][2], m[2,2])  # Numpy can read the next dimension after a comma (in lists this is not possible)\n",
    "\n",
    "print(\"Slicing a sub-matrix\\n\", m[1:,1:])  # One can slice different dimensions at the same time\n",
    "\n",
    "print(\"Getting a column\\n\", m[:,0])  # In this way you can select one column"
   ]
  },
  {
   "cell_type": "markdown",
   "metadata": {
    "id": "qaJYU-aUw5O_"
   },
   "source": [
    "A useful feature of numpy arrays are *boolean masks*, that are arrays of booleans of the same shape of a given array, say `a`. If `a` is indexed through the mask, only the elements corresponding to the position of the `True` elements are returned (in a new array)."
   ]
  },
  {
   "cell_type": "code",
   "execution_count": null,
   "metadata": {
    "id": "htSX-ZdIzdC7"
   },
   "outputs": [],
   "source": [
    "a = np.arange(10)\n",
    "print(\"Original array\\n\",a)\n",
    "\n",
    "mask = a > 5\n",
    "print(\"Mask for the elements greater than 5\\n\",mask)\n",
    "\n",
    "print(\"Masked array\\n\",a[mask])"
   ]
  },
  {
   "cell_type": "markdown",
   "metadata": {
    "id": "36IVhvtg0BO5"
   },
   "source": [
    "Boolean masks are extremely useful to avoid loops (in which a given property is checked for all the array elements) and save computational time. In this respect, see le last part of this tutorial."
   ]
  },
  {
   "cell_type": "markdown",
   "metadata": {
    "id": "1mrWSdcvJUbc"
   },
   "source": [
    "## Operations with arrays"
   ]
  },
  {
   "cell_type": "markdown",
   "metadata": {
    "id": "GfxH8KCAM1xH"
   },
   "source": [
    "### Arithmentic operations\n",
    "\n",
    "Arithmetic operators on arrays apply elementwise."
   ]
  },
  {
   "cell_type": "code",
   "execution_count": null,
   "metadata": {
    "colab": {
     "base_uri": "https://localhost:8080/"
    },
    "id": "bm8dE9MjM5zo",
    "outputId": "0a08c25a-f8ea-4ef3-98be-62543106597b"
   },
   "outputs": [
    {
     "name": "stdout",
     "output_type": "stream",
     "text": [
      "a:  [20 30 40 50] b:  [0 1 2 3]\n",
      "\n",
      "a - b: [20 29 38 47]\n",
      "a * b: [  0  30  80 150]\n",
      "b ^ 2:  [0 1 4 9]\n",
      "is a < 35?  [ True  True False False]\n"
     ]
    }
   ],
   "source": [
    "a = np.array( [20,30,40,50] )\n",
    "b = np.arange( 4 )\n",
    "print(\"a: \", a, \"b: \", b)\n",
    "print()\n",
    "\n",
    "print(\"a - b:\",  a-b)\n",
    "\n",
    "print(\"a * b:\",  a*b)  # Elementwise, not a scalar product!\n",
    "\n",
    "print(\"b ^ 2: \", b**2)\n",
    "\n",
    "print(\"is a < 35? \", a<35)  # Also boolean operations cen be applied elementwise"
   ]
  },
  {
   "cell_type": "markdown",
   "metadata": {
    "id": "ptUJNQGuO0Lj"
   },
   "source": [
    "Scalar product between two vectors using the method `dot()` or the symbol `@`.\n",
    "\n",
    "A @ B:\n",
    "$$\n",
    "A \\cdot B = \\sum_{i} A_{i} B_{i}  \n",
    "$$\n",
    "\n",
    "(Note that `dot()` between 2D arrays (matrices) makes matrix multiplications! But using `matmul()` should be preffered instead )\n"
   ]
  },
  {
   "cell_type": "code",
   "execution_count": null,
   "metadata": {
    "colab": {
     "base_uri": "https://localhost:8080/"
    },
    "id": "J6O861PsO34z",
    "outputId": "a764e7f6-4fe9-468a-83ab-d5abb95bcf7f"
   },
   "outputs": [
    {
     "name": "stdout",
     "output_type": "stream",
     "text": [
      "5\n",
      "5\n"
     ]
    }
   ],
   "source": [
    "A = np.array([1,2,4,5])\n",
    "\n",
    "B = np.array([3,4,1,-2])\n",
    "\n",
    "print(A.dot(B))  # scalar product\n",
    "print(A @ B)  # scalar product - equivalent command"
   ]
  },
  {
   "cell_type": "code",
   "execution_count": null,
   "metadata": {
    "colab": {
     "base_uri": "https://localhost:8080/"
    },
    "id": "8b9jhXVkOC2f",
    "outputId": "51efdfe3-00f2-4006-9eb8-7745af4fd169"
   },
   "outputs": [
    {
     "name": "stdout",
     "output_type": "stream",
     "text": [
      "sin(a): [0.         0.84147098 0.90929743 0.14112001]\n",
      "exp(a): [ 1.          2.71828183  7.3890561  20.08553692]\n",
      "square-root(a): [0.         1.         1.41421356 1.73205081]\n"
     ]
    }
   ],
   "source": [
    "print(\"sin(a):\", np.sin(b))\n",
    "\n",
    "print(\"exp(a):\", np.exp(b))\n",
    "\n",
    "print(\"square-root(a):\", np.sqrt(b))"
   ]
  },
  {
   "cell_type": "markdown",
   "metadata": {
    "id": "ikISaFTvPFkC"
   },
   "source": [
    "### Operations among the array elements\n",
    "\n",
    "Some examples of operation involving the array elements. See the documentation for more details and other examples."
   ]
  },
  {
   "cell_type": "code",
   "execution_count": null,
   "metadata": {
    "id": "UeZct31PQke9"
   },
   "outputs": [],
   "source": [
    "print(a.sum())  # Sum of all the array elements\n",
    "\n",
    "print(a.min())  # Minimum\n",
    "\n",
    "print(a.mean())  # Average value\n",
    "\n",
    "print(a.std())  # Standard deviation"
   ]
  },
  {
   "cell_type": "markdown",
   "metadata": {
    "id": "IErqA0FyQ4ml"
   },
   "source": [
    "The argument axis in the numpy functions specifies the dimension at which the operation is applied."
   ]
  },
  {
   "cell_type": "code",
   "execution_count": null,
   "metadata": {
    "id": "XkR6B-2SRmWA"
   },
   "outputs": [],
   "source": [
    "print(m)\n",
    "\n",
    "print(m.sum(axis=0))  # Summing the elements in each column (across the first dimension)\n",
    "\n",
    "print(m.sum(axis=1))  # Summing the elements in each row"
   ]
  },
  {
   "cell_type": "markdown",
   "metadata": {
    "id": "BkmqEulK4c05"
   },
   "source": [
    "## Matrix multiplications\n",
    "\n",
    "Numpy has fast and reliable functions to deal with matrix operations, such as inversion or matrix multiplication."
   ]
  },
  {
   "cell_type": "code",
   "execution_count": null,
   "metadata": {
    "id": "sNkDdPGd4Tsp"
   },
   "outputs": [],
   "source": [
    "A = np.array([[1,2,6],[2,3,0],[6,0,-3]])\n",
    "B = np.array([[-3,4,3],[2,-2,1],[0,2,1]])\n",
    "\n",
    "C = np.matmul(A, B)\n",
    "\n",
    "## note that there is a common shortwriting in @\n",
    "\n",
    "D = A @ B\n",
    "\n",
    "print( \" C and D are equivalent? \", (C == D).all())\n"
   ]
  },
  {
   "cell_type": "markdown",
   "metadata": {
    "id": "FPVImSN94fPI"
   },
   "source": [
    "Remember that matrix multiplication is different from element-wise multiplication!"
   ]
  },
  {
   "cell_type": "code",
   "execution_count": null,
   "metadata": {
    "id": "V-JNmtkg4kYX"
   },
   "outputs": [],
   "source": [
    "C = np.matmul(A, B)\n",
    "D = A * B\n",
    "\n",
    "print( \" C and D are equivalent? \", (C == D).all())"
   ]
  },
  {
   "cell_type": "markdown",
   "metadata": {
    "id": "h0uBU3jH4n-Q"
   },
   "source": [
    "With numpy functions we can efficiently solve - for example - least square minimization.\n",
    "Consider the case where we have a linear relation between some $X$ and $Y$ values, such as $Y=\\beta_0 + \\beta_1 X +\\epsilon$, with $\\epsilon$ some small error.\n",
    "\n",
    "If we have a list of values $\\{y_0, y_1, y_2, \\dots, y_m\\}$ and $\\{x_0, x_1, x_2, \\dots, x_m\\}$, the solution for the $\\hat{\\beta}_0$ and $\\hat{\\beta}_1$ which minimize the squared error can be solved using linear algebra."
   ]
  },
  {
   "cell_type": "code",
   "execution_count": null,
   "metadata": {
    "id": "8z7yK43T4qbI"
   },
   "outputs": [],
   "source": [
    "X = np.linspace(-50,50, num=100) # constructs 100 values for x between -50 and 50\n",
    "Y = X * 0.35 + 12 + (np.random.rand(100)-0.5) # constructs the Ys using beta_0 = 12 and beta_1 = 0.35"
   ]
  },
  {
   "cell_type": "markdown",
   "metadata": {
    "id": "A29H0mTG4scL"
   },
   "source": [
    "The solution can be found constructing an auxiliary vector that has at each row $(1, x_i)$ (this is due to the presence of the $\\beta_0$).\n",
    "Then, the solution for $\\beta = (\\beta_0, \\beta_1)$ is:\n",
    "\n",
    "$$\n",
    "\\beta = ( \\tilde{X}^T \\tilde{X})^{-1} \\tilde{X}^T Y\n",
    "$$\n",
    "\n",
    "Where $()^{-1}$ indicates the matrix inverse `np.linalg.inv` and $^T$ indicates the matrix transpose  `array.T`"
   ]
  },
  {
   "cell_type": "code",
   "execution_count": null,
   "metadata": {
    "id": "VRexKUt-4uMI"
   },
   "outputs": [],
   "source": [
    "Xt = np.vstack([np.ones(len(X)), X]).T\n",
    "Y = Y.reshape(-1,1)\n",
    "\n",
    "beta = np.linalg.inv(Xt.T @ Xt) @ Xt.T @ Y\n",
    "\n",
    "print(\"beta_0 is \", beta[0], \" and beta_1 \", beta[1])\n"
   ]
  },
  {
   "cell_type": "markdown",
   "metadata": {
    "id": "QJFLZAiHcp3j"
   },
   "source": [
    "## Outer products\n",
    "\n",
    "The `outer` product between two arrays $A$ and $B$ produces a 2D array containing all the products between each element of A and each element of B.\n",
    "\n",
    "$$\n",
    "\\text{outer}_{i,j} = A_i * B_j\n",
    "$$\n",
    "\n",
    "The arrays A,B are flatten to 1D if they were multidimensional."
   ]
  },
  {
   "cell_type": "code",
   "execution_count": null,
   "metadata": {
    "colab": {
     "base_uri": "https://localhost:8080/"
    },
    "id": "PZ2v2i0HcztT",
    "outputId": "45033dcf-0e09-4864-ad3d-e82d19d146cf"
   },
   "outputs": [
    {
     "name": "stdout",
     "output_type": "stream",
     "text": [
      "[[ 1 -1  2 -2]\n",
      " [ 2 -2  4 -4]\n",
      " [ 3 -3  6 -6]\n",
      " [ 4 -4  8 -8]]\n"
     ]
    }
   ],
   "source": [
    "A = np.array([[1,2],[3,4]])\n",
    "B = np.array([1,-1,2,-2])\n",
    "\n",
    "C = np.outer(A,B)\n",
    "print(C)"
   ]
  },
  {
   "cell_type": "markdown",
   "metadata": {
    "id": "yYL1GLHcilWO"
   },
   "source": [
    "## Einstein sums\n",
    "\n",
    "The 'Einstein's sum' is \"a notational convention that implies summation over a set of indexed terms in a formula, thus achieving brevity.\" In it, it is assumed that summations is implied for each repeated indiced, without the need to use $\\sum$ symbols.\n",
    "\n",
    "$$\n",
    "x_i y^i = \\sum_i x_i y_i\n",
    "$$\n",
    "\n",
    "Note that there could be un-repeated indices, which would not be summed over. E.g.,\n",
    "\n",
    "$$\n",
    "x_{j i} y^i = \\sum_i x_{ji} y_i\n",
    "$$\n",
    "\n",
    "\n",
    "The numpy function `einsum` is a very powerful function which allows to sum over sets of indices, while leaving others untouched. It uses a string as input with `ijk, ijm -> km` the indixes of the inputs left and the remaining indices right."
   ]
  },
  {
   "cell_type": "code",
   "execution_count": null,
   "metadata": {
    "colab": {
     "base_uri": "https://localhost:8080/"
    },
    "id": "1K62yBFBkXah",
    "outputId": "52d5dbef-444e-4354-af0e-9c58eb218258"
   },
   "outputs": [
    {
     "name": "stdout",
     "output_type": "stream",
     "text": [
      "[[3.23004811 4.39400887 3.58077694 3.94087239 3.61143709 4.2053059\n",
      "  2.59529369]\n",
      " [3.61839947 4.08348989 3.90883708 4.99667168 3.95447623 4.04261279\n",
      "  2.98183774]\n",
      " [2.74519433 2.85796763 2.92208011 2.98191051 3.02209    3.56282771\n",
      "  2.69831496]\n",
      " [3.60492053 4.39272062 4.4208666  5.05872621 4.70117404 4.89878103\n",
      "  3.53502529]] \n",
      "C shape is  (4, 7)\n",
      "[[3.23004811 3.61839947 2.74519433 3.60492053]\n",
      " [4.39400887 4.08348989 2.85796763 4.39272062]\n",
      " [3.58077694 3.90883708 2.92208011 4.4208666 ]\n",
      " [3.94087239 4.99667168 2.98191051 5.05872621]\n",
      " [3.61143709 3.95447623 3.02209    4.70117404]\n",
      " [4.2053059  4.04261279 3.56282771 4.89878103]\n",
      " [2.59529369 2.98183774 2.69831496 3.53502529]] \n",
      "D shape is  (7, 4)\n",
      "\n",
      "E shape is  (7, 3, 4, 3)\n"
     ]
    }
   ],
   "source": [
    "# A with index      i j  k\n",
    "A = np.random.rand( 5,3, 4) # note the shape (5,3,4)\n",
    "\n",
    "# B with index      m  j  i\n",
    "B = np.random.rand( 7, 3, 5) # note the shape (7,3,4)\n",
    "\n",
    "# C summing over indixes i,j leaving untouched k,m\n",
    "C = np.einsum( \" ijk, mji-> km\", A, B)\n",
    "print(C, \"\\nC shape is \", C.shape)\n",
    "\n",
    "# D summing over indixes i,j leaving untouched *m,k* in different order\n",
    "D = np.einsum( \" ijk, mji-> mk\", A, B)\n",
    "print(D, \"\\nD shape is \", D.shape)\n",
    "\n",
    "\n",
    "# E summing over index i only, leaving untouched all other (I need to change names to the other j index)\n",
    "E = np.einsum( \" ijk, mLi-> mjkL\", A, B)\n",
    "print(\"\\nE shape is \", E.shape)"
   ]
  },
  {
   "cell_type": "markdown",
   "metadata": {
    "id": "MIOL-nIZhrsx"
   },
   "source": [
    "## Eigenvalues analysis\n",
    "\n",
    "Numpy has many algebra modules which can deal with diagonalizations.\n",
    "`numpy.linalg.eig` computes the eigenvalues and (right) eigenvectors of a square array. It takes the matrix as input and returns a tuple with eigenvalues and eigenvectors.\n"
   ]
  },
  {
   "cell_type": "code",
   "execution_count": null,
   "metadata": {
    "id": "VpPy3Scphq-I"
   },
   "outputs": [],
   "source": [
    "A = np.array([[1,2,6],[2,3,0],[6,0,-3]])\n",
    "\n",
    "eig_val, eig_vec = np.linalg.eig(A)\n",
    "print('eigenvalues: \\n', eig_val)\n",
    "print('eigenvectors: \\n', eig_vec)"
   ]
  },
  {
   "cell_type": "markdown",
   "metadata": {
    "id": "c60belxpRqoe"
   },
   "source": [
    "\n",
    "## Manipulating arrays\n",
    "\n",
    "Here we show some function to modify arrays and their shape. As for all the other examples in this tutorial, here we show just a small fraction of the wide range of possibilities that Numpy proposes."
   ]
  },
  {
   "cell_type": "markdown",
   "metadata": {
    "id": "eBUnMHP-HNi9"
   },
   "source": [
    "### Changing the shape of an array\n",
    "\n",
    "`reshape` function.\n",
    "Be careful on the order of reshaping: There are two conventions available $'C'$-like (default) and $'F'$-like, standing for the languages C and Fortran.\n",
    "\n",
    "With $'C'$ the \"fastest\" index is the last one, while with $F$ it is the first one."
   ]
  },
  {
   "cell_type": "code",
   "execution_count": null,
   "metadata": {
    "colab": {
     "base_uri": "https://localhost:8080/"
    },
    "id": "UHhMiHnHHSiU",
    "outputId": "e6fd0ce5-c97c-4215-e7b5-46ef09321b6d"
   },
   "outputs": [
    {
     "name": "stdout",
     "output_type": "stream",
     "text": [
      "Original array:\n",
      " [ 0  1  2  3  4  5  6  7  8  9 10 11]\n",
      "Reshaped as a matrix:\n",
      " [[ 0  1  2  3]\n",
      " [ 4  5  6  7]\n",
      " [ 8  9 10 11]]\n",
      "\n",
      "\n",
      "C-like reshaping.\n",
      "Reshaped as a 3-d array:\n",
      " [[[ 0  1]\n",
      "  [ 2  3]]\n",
      "\n",
      " [[ 4  5]\n",
      "  [ 6  7]]\n",
      "\n",
      " [[ 8  9]\n",
      "  [10 11]]]\n",
      "Fast-index is last:\n",
      " [0 1]\n",
      "\n",
      "\n",
      "F-like reshaping.\n",
      "Reshaped as a 3-d array:\n",
      " [[[ 0  6]\n",
      "  [ 3  9]]\n",
      "\n",
      " [[ 1  7]\n",
      "  [ 4 10]]\n",
      "\n",
      " [[ 2  8]\n",
      "  [ 5 11]]]\n",
      "Fast-index is first:\n",
      " [0 1 2]\n"
     ]
    }
   ],
   "source": [
    "a = np.arange(12)  # Generating a 1-d array with 12 elements\n",
    "print(\"Original array:\\n\", a)\n",
    "\n",
    "print(\"Reshaped as a matrix:\\n\", a.reshape((3,4)))  # Be careful, the number of elements must be the same! You cannot reshape it in a 4x4 matrix\n",
    "\n",
    "print(\"\\n\\nC-like reshaping.\")\n",
    "print(\"Reshaped as a 3-d array:\\n\", a.reshape((3,2,2)))\n",
    "print(\"Fast-index is last:\\n\", a.reshape((3,2,2))[0,0,:])\n",
    "\n",
    "print(\"\\n\\nF-like reshaping.\")\n",
    "print(\"Reshaped as a 3-d array:\\n\", a.reshape((3,2,2), order='F'))\n",
    "print(\"Fast-index is first:\\n\", a.reshape((3,2,2), order='F')[:,0,0])"
   ]
  },
  {
   "cell_type": "markdown",
   "metadata": {
    "id": "DEem_4SIHaqJ"
   },
   "source": [
    "Transposing"
   ]
  },
  {
   "cell_type": "code",
   "execution_count": null,
   "metadata": {
    "id": "ujmDiensIiyz"
   },
   "outputs": [],
   "source": [
    "m = a.reshape((4,3))\n",
    "print(\"A matrix\\n\", m)\n",
    "print(\"and its transpose\\n\", m.T)"
   ]
  },
  {
   "cell_type": "markdown",
   "metadata": {
    "id": "oFWhfGx0wSqt"
   },
   "source": [
    "### Append\n",
    "\n",
    "The function `append` of numpy is slightly different from the `append` for lists."
   ]
  },
  {
   "cell_type": "code",
   "execution_count": null,
   "metadata": {
    "id": "GhvHYVWqwkA8"
   },
   "outputs": [],
   "source": [
    "a = np.array([])  # An empty array\n",
    "for i in range(10):\n",
    "  a = np.append(a, i**2)  # Appending a single element at the array end\n",
    "\n",
    "print(a)\n",
    "\n",
    "\n",
    "a = np.array([])\n",
    "for i in range(10):\n",
    "  a = np.append(a, [1,0])  # Appending another array/list\n",
    "\n",
    "print(a)\n"
   ]
  },
  {
   "cell_type": "markdown",
   "metadata": {
    "id": "LVwdue4FIlME"
   },
   "source": [
    "### Stacking together different arrays"
   ]
  },
  {
   "cell_type": "code",
   "execution_count": null,
   "metadata": {
    "id": "Q0ULg1QeJcgC"
   },
   "outputs": [],
   "source": [
    "a = np.zeros((2,2))\n",
    "b = np.ones((2,2))\n",
    "print (\"a:\\n\", a, \"\\nb\\n\", b)\n",
    "\n",
    "print(\"vertical stack\\n\", np.vstack((a,b)))\n",
    "print(\"horizontal stack\\n\", np.hstack((a,b)))"
   ]
  },
  {
   "cell_type": "markdown",
   "metadata": {
    "id": "Sm0xd0Baxeqz"
   },
   "source": [
    "To dynamically generate a matrix row by row use vstack. Note that you need to initialize an empty array with the correct dimension."
   ]
  },
  {
   "cell_type": "code",
   "execution_count": null,
   "metadata": {
    "id": "vSmOx4wCxlwC"
   },
   "outputs": [],
   "source": [
    "a = np.empty((0,2))  # To initialize an array\n",
    "for i in range(5):\n",
    "  a = np.vstack((a, [1,0]))\n",
    "print (a)"
   ]
  },
  {
   "cell_type": "markdown",
   "metadata": {
    "id": "1A3PUzHhjLen"
   },
   "source": [
    "### Broadcasting rules\n",
    "\n",
    "When doing operations between arrays of different dimensions, Numpy generally assumes the expected behavior from the shapes.  \n",
    "For example, a scalar multiplied by a vector returns each element of the vector multiplied by the scalar.\n",
    "\n",
    "$$\n",
    "a * (b_1, b_2, b_3) = (a*b_1, a*b_2, a*b_3)\n",
    "$$\n"
   ]
  },
  {
   "cell_type": "code",
   "execution_count": null,
   "metadata": {
    "id": "Nz_S70CGkOgJ"
   },
   "outputs": [],
   "source": [
    "a=3\n",
    "b=np.array([1,-2,0])\n",
    "print(a*b)"
   ]
  },
  {
   "cell_type": "markdown",
   "metadata": {
    "id": "LcsfE2Ktkco_"
   },
   "source": [
    "Sometimes, however, we need to force the \"broadcasting\" of the arrays.\n",
    "To add an empty dimension to the array, we need to use the `None` keyword.\n",
    "For example, let's assume that we want to achieve this result.\n",
    "\n",
    "$$\n",
    "(a_1, a_2, ..., a_n)^T * (b_1, b_2, ..., b_m) =  \n",
    "\\begin{pmatrix}\n",
    "a_1b_1 & a_1b_2 & \\cdots & a_1b_m \\\\\n",
    "a_2b_1 & a_2b_2 & \\cdots & a_2b_m \\\\\n",
    "\\vdots  & \\vdots  & \\ddots & \\vdots  \\\\\n",
    "a_nb_1 & a_nb_2 & \\cdots & a_nb_m\n",
    "\\end{pmatrix}\n",
    "$$\n",
    "The naive way does not work:"
   ]
  },
  {
   "cell_type": "code",
   "execution_count": null,
   "metadata": {
    "id": "rCrNiIPwk-Gy"
   },
   "outputs": [],
   "source": [
    "a = np.array([1,2,3])\n",
    "b = np.array([-1,1])\n",
    "print(a*b)"
   ]
  },
  {
   "cell_type": "code",
   "execution_count": null,
   "metadata": {
    "id": "UNAtH2Vql54R"
   },
   "outputs": [],
   "source": [
    "a = np.array([1,2,3])\n",
    "b = np.array([-1,1])\n",
    "print(a[:,None]*b[None,:])"
   ]
  },
  {
   "cell_type": "markdown",
   "metadata": {
    "id": "UcI_E7KGkUc1"
   },
   "source": [
    "Let us use broadcasting for calculating the \"distance matrix\" between each point of an array.\n",
    "\n",
    "$$\n",
    "A = (a_1, a_2, a_3, ..., a_n)\n",
    "$$\n",
    "\n",
    "\n",
    "$$ d  =\n",
    "\\begin{pmatrix}\n",
    "(a_1 - a_1)^2 & (a_1 - a_2)^2 & \\cdots & (a_1 - a_n)^2 \\\\\n",
    "(a_2 - a_1)^2 & (a_2 - a_2)^2 & \\cdots & (a_2 - a_n)^2 \\\\\n",
    "\\vdots  & \\vdots  & \\ddots & \\vdots  \\\\\n",
    "(a_n - a_1)^2 & (a_n - a_2)^2& \\cdots & (a_n - a_n)^2\n",
    "\\end{pmatrix}\n",
    "$$"
   ]
  },
  {
   "cell_type": "code",
   "execution_count": null,
   "metadata": {
    "id": "wdaS19CFkTRW"
   },
   "outputs": [],
   "source": [
    "A = np.arange(5)\n",
    "\n",
    "print('A: \\n', A)\n",
    "\n",
    "d = (A[:,None] - A[None,:] )**2\n",
    "\n",
    "print('d: \\n', d)"
   ]
  },
  {
   "cell_type": "markdown",
   "metadata": {
    "id": "nXmHgGhwKHPc"
   },
   "source": [
    "## Random functions\n",
    "\n",
    "All the random functions in Numpy are contained in the sub-module `random`.\n",
    "\n",
    "See: https://docs.scipy.org/doc/numpy-1.16.0/reference/routines.random.html"
   ]
  },
  {
   "cell_type": "markdown",
   "metadata": {
    "id": "lomUN-e0LqVG"
   },
   "source": [
    "### Generating random data"
   ]
  },
  {
   "cell_type": "code",
   "execution_count": null,
   "metadata": {
    "id": "0gzzs0fRL6gP"
   },
   "outputs": [],
   "source": [
    "print(np.random.rand()) # A single rand number in [0,1)\n",
    "\n",
    "r = np.random.rand(3,4)  # Generating random numbers uniformely in [0,1) with a given shape\n",
    "print(r)\n",
    "\n",
    "# Generating random integers. Arguments: start included, stop excluded, size.\n",
    "r = np.random.randint(2,5,(3,4))\n",
    "print(r)"
   ]
  },
  {
   "cell_type": "markdown",
   "metadata": {
    "id": "IXhSD8GMOu4T"
   },
   "source": [
    "Data can be generated also from specific distributions (here few examples)"
   ]
  },
  {
   "cell_type": "code",
   "execution_count": null,
   "metadata": {
    "id": "ji5xFBCZO-EB"
   },
   "outputs": [],
   "source": [
    "# From normal distribution. Args: mean, standard dev, size.\n",
    "r = np.random.normal(1,2,(3,4))\n",
    "print(r)\n",
    "\n",
    "# From poisson distribution. Args: mean, size.\n",
    "r = np.random.poisson(2,(3,4))\n",
    "print(r)"
   ]
  },
  {
   "cell_type": "markdown",
   "metadata": {
    "id": "1dQi-_i3P6Uy"
   },
   "source": [
    "### Sampling"
   ]
  },
  {
   "cell_type": "markdown",
   "metadata": {
    "id": "-AURFYO6Nx-8"
   },
   "source": [
    "Shuffling an array.\n",
    "\n",
    "Equivalent to a sampling without replacement: at each time an array element is randomly exctracted, put in a new array, and removed from the original array"
   ]
  },
  {
   "cell_type": "code",
   "execution_count": null,
   "metadata": {
    "id": "Op5wi4N9N13k"
   },
   "outputs": [],
   "source": [
    "a = [1, 1, 1, 1, 2, 2, 2, 3, 3, 4]\n",
    "print(a)\n",
    "\n",
    "np.random.shuffle(a)  # The method modifies the array in-place\n",
    "\n",
    "print(a)"
   ]
  },
  {
   "cell_type": "markdown",
   "metadata": {
    "id": "XIzccOVHOC30"
   },
   "source": [
    "Sampling without replacement: at each time an array element is randomly exctracted and put in a new array"
   ]
  },
  {
   "cell_type": "code",
   "execution_count": null,
   "metadata": {
    "id": "3Pp0F066QOpG"
   },
   "outputs": [],
   "source": [
    "new_a = np.random.choice(a, 15)  # Note that here the new array can be larger than the original\n",
    "print (new_a)"
   ]
  },
  {
   "cell_type": "markdown",
   "metadata": {
    "id": "_EjPPPTbRe2_"
   },
   "source": [
    "# Exercises (optional)\n",
    "\n",
    "1) One of the exercise of last time dealt with calculating the distance between two DNA strings using the fraction of equal characters.\n",
    "\n",
    "Now, use the documentation in the module `numpy.char` https://numpy.org/doc/stable/reference/routines.char.html to see how one would write the distance between two strings in numpy."
   ]
  },
  {
   "cell_type": "code",
   "execution_count": null,
   "metadata": {
    "id": "u9biwVMUReXT"
   },
   "outputs": [],
   "source": [
    "a = 'ACTGACACTCCAAAAGCTTCTGAATGCTCGCGGACCTGTGCATACTGCTATACCGCGTACGTGATCGCGCTCCGGCACACCAAATACGGACCGGACTAAAGTAGTGAACCACCAAACTATGTCTGACTTCCCCTGAACTTTGCAGTATGCGACTTACCTGCTCTTGAAGAAGATCTGAACTTACTGTTTAAAATTACCTGGGCCCCCTATGTAAGACATAGATCTAGCTCATCAAGAGTAATTCGAGCTAGCCGAGCCCCCGCTGACACAGTCTAATAGGCCTGTAGCGACCTTTAATTGCACGGCTGGCTACAGGTTAATGGCGTTGCTTTTCATCCAGGGGTATACGACGTAATGAAAGTTGTGATCCGATCTCAGAGTGTGCACAAGGGAAACCGTCTGACAAGTAAGCGGCCTCCTGTGTTGGGCCGAGTGGCAAGTCGTCGCTCATAGTTCCGTACCACAGGCAAATTGCAATAACAAATCCTAGCAGAAACTCCACGTTGGCGCAGACTTTCGGAAAAATAACCTTAATCGACATCGCTTATACCTCACAAGGCCGGATTAATTACAGCGTTCAACGTTCTGCATTGTCAGTCGCTGGTCACATAGTCTCGTCGCGAGGGTCATTCGGCGTTAGTGCTGAGGGAAACTATAGAAGATTTATACCTCGCTACGGTATGCTGATGGGTTATAGAAGGAACAGAACCATGCGCGGAACCGCCGGTGACTCCTGTGCTCGTGGGCACTCTATTATCTGTGTCTTGGAAGCATCTCTTATCTGATGGTTTCGCATGTTGTAGATACACAGTGTTTTCCGGTTCGTTTTATCCTGGCTATTGCTTTTTCCGTTGACATTCATTGACATCGTGATTGGCATAAGCGCTCATAGACGCTTCGTTTATCCCGTTACCACGCTTA'\n",
    "a = np.array(list(a))\n",
    "b = 'ACCGACACTCCAAAAACTTCTGAACACTTACGGACATGCGCATGCGACTAAACTGCGTACCTTAGCGTGCTTCGGCACACCATATATGGGACGGGCCATGGCGGGGCACCACCATACTACGTCAAACCTCCACTCATCCTCGCAGAATACAACTTACCGGCTTTTGAAAAAGACTTGTCCTTACTGTTTAGAATTACTTTGGCCCCCTACGTAAGACATAAACACGGATCACCAAAGGCAAATTGGGGGAGCTGACCTACCGCTGTCCCTATCTAACACACCTATAGCGACCTTTAGTTACACAGCAGGCTACGTAATAATGACGTGGCTTATCACCCAGGGTTATACGGCGTAATGCATACTGCAGCCCGATTTCGGAAAGTCCCCAAGGGAGACTGCCTCACAAGCAGTTTCCTTCCCGTATTGTACCAAGTGACAATTTGTCGCCTATCATTCCATATCCCAAATGGATTACGGTGACGGGTCCTGACAGAAGATTCACGCTGATATAAACTTTCGAAAAGGCCATGTTAACCAGCATCGCTTGTACCTCGTCAGACAGCACGAATCACAGTGTTCAATGTTCTGCAGTGTCGGATAATTTTCACTTAACCTAATTACGAAGGCTAGTCGGGATTAGTGCTGGGCGCAACTACAAAAGGCTGATACCTCGCTACGGTACGCTAGGTGGTTGCAGAAGGAGCAAATTGATTAACGATAGTTCCGGTGTCTCCTATATTCGTGAGCAGTCTGTCGTTTTCATCCTGGGAGTGTCTCTTATCTAGTAGCTTCGCATGTCGAAGGTACACAATGCTTTCCTGGTTAGACTATTCTGGCTATTGCTGTTTCCGTTAGTACCCGCTGACTTCGTAATTACCACAAACGTCCACAGACGTTTCGTCGATACCGTCATCACGCTTA'\n",
    "b = np.array(list(b))\n",
    "\n",
    "# Write the distance between a and b exploiting numpy functions"
   ]
  },
  {
   "cell_type": "markdown",
   "metadata": {
    "id": "9QfYEh5KVPc8"
   },
   "source": [
    "2) Create a Gaussian Random matrix of size 10x10.\n",
    "A Gaussian Random matrix is a symmetric matrix that has the diagonal terms independent random normally distributed numbers with mean $0$ and, for example, standard deviation $1/\\sqrt{2}$, and all other terms must be independent random normally distributed numbers with mean $0$ and standard deviation $1$.\n",
    "\n",
    "(One way to ensure a matrix is symmetric is to use $A_{symm} = (A + A^T)/2$).\n",
    "\n",
    "Then calculate the eigenvalues, and create an histogram of their modulus using `numpy.histogram` https://numpy.org/doc/stable/reference/generated/numpy.histogram.html"
   ]
  },
  {
   "cell_type": "code",
   "execution_count": null,
   "metadata": {
    "id": "ZDIs1BlTYaE6"
   },
   "outputs": [],
   "source": [
    "# Construct the matrix using numpy.random methods\n",
    "\n",
    "# Compute the eigenvalues using numpy.linalg methods\n",
    "\n",
    "# Compute the histogram using the numpy.histogram methods"
   ]
  },
  {
   "cell_type": "markdown",
   "metadata": {
    "id": "Sd9L7qALnnd4"
   },
   "source": [
    "3) Einstein Sums. One of the most compact (and possibly confusing) way of writing operation is the Einstein convention, where repeated indices imply summation, i.e. contraction on that index.\n",
    "\n",
    "$$\n",
    "A_i B^i = \\sum_i A_i B_i\n",
    "$$\n",
    "\n",
    "\n",
    "This allows for a compact writing of complex summations, especially of matrices and higher dimensions tensors. Note that the final dimension of the object is dictated by the indices which are *not* summated over.\n",
    "\n",
    "$$\n",
    "A_{kni} B^{n}_{jo} C^{ji} = ?\n",
    "$$\n",
    "\n"
   ]
  },
  {
   "cell_type": "code",
   "execution_count": null,
   "metadata": {
    "colab": {
     "base_uri": "https://localhost:8080/"
    },
    "id": "Wc0j75PQqPTY",
    "outputId": "ad78c646-80d1-4bf2-ee97-891bf47d4f93"
   },
   "outputs": [
    {
     "name": "stdout",
     "output_type": "stream",
     "text": [
      "(10, 11)\n"
     ]
    }
   ],
   "source": [
    "import numpy as np\n",
    "\n",
    "K = 10\n",
    "N = 9\n",
    "I = 7\n",
    "O = 11\n",
    "J = 8\n",
    "\n",
    "A = np.random.rand( K,N,I )\n",
    "B = np.random.rand( N,J,O )\n",
    "C = np.random.rand( J,I )\n",
    "\n",
    "# compute the above summation following the Einstein notation, and check whether the final shape is what you expect\n"
   ]
  },
  {
   "cell_type": "markdown",
   "metadata": {
    "id": "sDFoOpEiQ4Of"
   },
   "source": [
    "## Why numpy instead of Python lists?"
   ]
  },
  {
   "cell_type": "markdown",
   "metadata": {
    "id": "zHnCdH7VTeFw"
   },
   "source": [
    "The obvious fact is that in Numpy there are several built-in functions for whatever necessity of a scientist.\n",
    "\n"
   ]
  },
  {
   "cell_type": "markdown",
   "metadata": {
    "id": "8Fmi81dHpWvp"
   },
   "source": [
    "Moreover, using Numpy there is a relevant increase in the performance of your algorithm, especially when one has to deal with a large amount of numbers (https://stackoverflow.com/questions/993984/what-are-the-advantages-of-numpy-over-regular-python-lists):\n",
    "\n",
    "* Numpy arrays consume less memory than lists when stored.\n",
    "\n",
    "* Using the bulit-in functions speeds up your program a lot (see below).\n"
   ]
  },
  {
   "cell_type": "code",
   "execution_count": null,
   "metadata": {
    "id": "sJAa1wEjTx4c"
   },
   "outputs": [],
   "source": [
    "def sum_without_numpy(a_list):\n",
    "  counter = 0\n",
    "  for element in a_list:\n",
    "    counter += element\n",
    "  return counter\n",
    "\n",
    "def sum_with_numpy(a_list):\n",
    "  return np.sum(a_list)"
   ]
  },
  {
   "cell_type": "code",
   "execution_count": null,
   "metadata": {
    "id": "98WmlmbfVAgM"
   },
   "outputs": [],
   "source": [
    "import time\n",
    "\n",
    "a_big_list = np.random.rand(1000000)\n",
    "\n",
    "t0 = time.time()\n",
    "result = sum_without_numpy(a_big_list)\n",
    "python_time = time.time()-t0\n",
    "print(\"Result \", result, \" obtained in \", python_time)\n",
    "\n",
    "t0 = time.time()\n",
    "result = sum_with_numpy(a_big_list)\n",
    "numpy_time = time.time()-t0\n",
    "print(\"Result with numpy\", result, \" obtained in \", numpy_time)\n",
    "\n",
    "print(\"Numpy is \", python_time / numpy_time, \" times faster!\")"
   ]
  },
  {
   "cell_type": "markdown",
   "metadata": {
    "id": "QGMBJV2F_RyW"
   },
   "source": [
    "In general, iterations slow down your code. A useful trick to avoid them is to use boolean masks. In this example the task is to select the number larger than 0.5 and compute the average of this items. This can be done by iterating over the list elements or using the mask."
   ]
  },
  {
   "cell_type": "code",
   "execution_count": null,
   "metadata": {
    "id": "_CTEJO18-kYy"
   },
   "outputs": [],
   "source": [
    "t0 = time.time()\n",
    "count = 0\n",
    "summation = 0\n",
    "for elem in a_big_list:\n",
    "  if elem > 0.5:\n",
    "    count += 1\n",
    "    summation += elem\n",
    "python_time = time.time()-t0\n",
    "print(\"Average of elements larger than 0.5 \", summation/count, \" obtained in \", python_time)\n",
    "\n",
    "t0 = time.time()\n",
    "mask = a_big_list > 0.5\n",
    "result = a_big_list[mask].mean()\n",
    "numpy_time = time.time()-t0\n",
    "print(\"Elements larger than 0.5 with boolean masks\", result, \" obtained in \", numpy_time)\n",
    "\n",
    "print(\"Numpy is \", python_time / numpy_time, \" times faster!\")"
   ]
  }
 ],
 "metadata": {
  "colab": {
   "provenance": []
  },
  "kernelspec": {
   "display_name": "Python 3 (ipykernel)",
   "language": "python",
   "name": "python3"
  },
  "language_info": {
   "codemirror_mode": {
    "name": "ipython",
    "version": 3
   },
   "file_extension": ".py",
   "mimetype": "text/x-python",
   "name": "python",
   "nbconvert_exporter": "python",
   "pygments_lexer": "ipython3",
   "version": "3.8.17"
  }
 },
 "nbformat": 4,
 "nbformat_minor": 4
}
