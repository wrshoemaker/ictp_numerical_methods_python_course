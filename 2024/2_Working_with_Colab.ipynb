{
  "cells": [
    {
      "cell_type": "markdown",
      "id": "f5322b1c",
      "metadata": {
        "id": "f5322b1c"
      },
      "source": [
        "# 2 - Working with Colab\n",
        "\n",
        "<b>Summary</b>:\n",
        "> * Reading and writing files in Colab\n",
        "> * Working on your own (mini) project\n",
        "\n",
        "\n",
        "For more details see:\n",
        "- https://neptune.ai/blog/google-colab-dealing-with-files"
      ]
    },
    {
      "cell_type": "markdown",
      "id": "28806ed9",
      "metadata": {
        "id": "28806ed9"
      },
      "source": [
        "[link text](https://)### Reading and writing files in Colab\n",
        "\n",
        "If you have a link to a plain text file you can import it directly into collab. For example, we'll use the `requests` library to load the Iris dataset"
      ]
    },
    {
      "cell_type": "code",
      "execution_count": null,
      "id": "94cd7d04",
      "metadata": {
        "id": "94cd7d04"
      },
      "outputs": [],
      "source": [
        "import requests\n",
        "\n",
        "\n",
        "result = requests.get('https://raw.githubusercontent.com/venky14/Machine-Learning-with-Iris-Dataset/master/Iris.csv')\n",
        "data_text = result.text"
      ]
    },
    {
      "cell_type": "markdown",
      "id": "4dc46050",
      "metadata": {
        "id": "4dc46050"
      },
      "source": [
        "Though often you'll need to upload data to Colab. Here you can do that by creating a folder in the left sidebar of colab. Create a folder called `data` and drag and drop `data.csv`. Now you can import the file."
      ]
    },
    {
      "cell_type": "code",
      "execution_count": null,
      "id": "c418ea0e",
      "metadata": {
        "id": "c418ea0e"
      },
      "outputs": [],
      "source": [
        "with open(\"./data/data.csv\") as f:\n",
        "  data = f.read()"
      ]
    },
    {
      "cell_type": "code",
      "execution_count": null,
      "id": "lL86xC0K6X5T",
      "metadata": {
        "colab": {
          "base_uri": "https://localhost:8080/"
        },
        "id": "lL86xC0K6X5T",
        "outputId": "a933b206-0873-44b2-c392-344de5e5b9eb"
      },
      "outputs": [
        {
          "name": "stdout",
          "output_type": "stream",
          "text": [
            "[0 1 2 3 4 5 6 7 8 9]\n",
            "45\n",
            "45\n"
          ]
        }
      ],
      "source": [
        "import numpy as np\n",
        "a = np.arange(10)\n",
        "print(a)\n",
        "print(a.sum())\n",
        "print(np.sum(a))"
      ]
    },
    {
      "cell_type": "markdown",
      "id": "51943e1e",
      "metadata": {
        "id": "51943e1e"
      },
      "source": [
        "In order to analyze data you have to first read it in to your program. Once you've performed your calculations, you may want to save it for future use. Here we will read in a data file containing observations from a Gaussian distribution of unknown mean and variance, calculate the mean and variance."
      ]
    },
    {
      "cell_type": "code",
      "execution_count": null,
      "id": "a8a9e187",
      "metadata": {
        "colab": {
          "base_uri": "https://localhost:8080/"
        },
        "id": "a8a9e187",
        "outputId": "540068d8-344b-45e1-bf71-d991e4720b1c"
      },
      "outputs": [
        {
          "name": "stdout",
          "output_type": "stream",
          "text": [
            "Observation number\tObservation\n",
            "\n",
            "Mean = 3.042112833945\n",
            "Variance = 1.0535919965442606\n"
          ]
        }
      ],
      "source": [
        "# get the header\n",
        "data = open(\"./data/data.tsv\")\n",
        "header = data.readline()\n",
        "print(header)\n",
        "\n",
        "data_clean = []\n",
        "for line in data:\n",
        "    # remove any extra characters at the beginning of the string\n",
        "    line = line.strip()\n",
        "    # split the data by the deliminator. If you don't know what the deliminator is, check the data\n",
        "    line = line.split('\\t')\n",
        "    # turn the observation into a float\n",
        "    line_data = float(line[1])\n",
        "    data_clean.append(line_data)\n",
        "\n",
        "\n",
        "mean_data = sum(data_clean)/len(data_clean)\n",
        "variance_data = sum([(data_i - mean_data)**2 for data_i in data_clean])/len(data_clean)\n",
        "\n",
        "print(\"Mean =\", mean_data)\n",
        "print(\"Variance =\", variance_data)"
      ]
    },
    {
      "cell_type": "markdown",
      "id": "9699174b",
      "metadata": {
        "id": "9699174b"
      },
      "source": [
        "Now let's save the results to a file for future use. Here the argument ```'w'``` means \"write\" and ```%``` is an operator to convert the float to a string"
      ]
    },
    {
      "cell_type": "code",
      "execution_count": null,
      "id": "dd1c7253",
      "metadata": {
        "id": "dd1c7253"
      },
      "outputs": [],
      "source": [
        "out_path = \"./data/processed_data.tsv\"\n",
        "\n",
        "file_out = open(out_path, 'w')\n",
        "\n",
        "# write the header\n",
        "file_out.write('Mean\\tVariance\\n')\n",
        "# write the data\n",
        "file_out.write('%f\\t%s\\n' % (mean_data, variance_data))\n",
        "\n",
        "\n",
        "file_out.close()"
      ]
    },
    {
      "cell_type": "markdown",
      "source": [
        "Alternatively, you could open the file with a ```with``` command and Python will automatically close the file once it has looped through all the lines, but you will need to add a statement to make sure Python ignores the header in your file."
      ],
      "metadata": {
        "id": "JLeTVin4D5bl"
      },
      "id": "JLeTVin4D5bl"
    },
    {
      "cell_type": "code",
      "source": [
        "with open(in_path, 'r') as file_:\n",
        "    read_data = file_.read()\n",
        "\n",
        "# We can check that the file has been automatically closed.f.closed\n",
        "file_.closed"
      ],
      "metadata": {
        "colab": {
          "base_uri": "https://localhost:8080/",
          "height": 216
        },
        "id": "u_HIxTnmD7vE",
        "outputId": "39f4b30a-3a58-42be-c227-a38131dd84d3"
      },
      "id": "u_HIxTnmD7vE",
      "execution_count": null,
      "outputs": [
        {
          "output_type": "error",
          "ename": "NameError",
          "evalue": "name 'in_path' is not defined",
          "traceback": [
            "\u001b[0;31m---------------------------------------------------------------------------\u001b[0m",
            "\u001b[0;31mNameError\u001b[0m                                 Traceback (most recent call last)",
            "\u001b[0;32m<ipython-input-1-e798f68c5a12>\u001b[0m in \u001b[0;36m<cell line: 1>\u001b[0;34m()\u001b[0m\n\u001b[0;32m----> 1\u001b[0;31m \u001b[0;32mwith\u001b[0m \u001b[0mopen\u001b[0m\u001b[0;34m(\u001b[0m\u001b[0min_path\u001b[0m\u001b[0;34m,\u001b[0m \u001b[0;34m'r'\u001b[0m\u001b[0;34m)\u001b[0m \u001b[0;32mas\u001b[0m \u001b[0mfile_\u001b[0m\u001b[0;34m:\u001b[0m\u001b[0;34m\u001b[0m\u001b[0;34m\u001b[0m\u001b[0m\n\u001b[0m\u001b[1;32m      2\u001b[0m     \u001b[0mread_data\u001b[0m \u001b[0;34m=\u001b[0m \u001b[0mfile_\u001b[0m\u001b[0;34m.\u001b[0m\u001b[0mread\u001b[0m\u001b[0;34m(\u001b[0m\u001b[0;34m)\u001b[0m\u001b[0;34m\u001b[0m\u001b[0;34m\u001b[0m\u001b[0m\n\u001b[1;32m      3\u001b[0m \u001b[0;34m\u001b[0m\u001b[0m\n\u001b[1;32m      4\u001b[0m \u001b[0;31m# We can check that the file has been automatically closed.f.closed\u001b[0m\u001b[0;34m\u001b[0m\u001b[0;34m\u001b[0m\u001b[0m\n\u001b[1;32m      5\u001b[0m \u001b[0mfile_\u001b[0m\u001b[0;34m.\u001b[0m\u001b[0mclosed\u001b[0m\u001b[0;34m\u001b[0m\u001b[0;34m\u001b[0m\u001b[0m\n",
            "\u001b[0;31mNameError\u001b[0m: name 'in_path' is not defined"
          ]
        }
      ]
    },
    {
      "cell_type": "markdown",
      "id": "972a72a5",
      "metadata": {
        "id": "972a72a5"
      },
      "source": [
        "### Mini-project\n",
        "\n",
        "Often you will need to write your own code to answer your scientific questions. Python libraries are helpful, but they do not contain every conceivable function. Furthermore, it's useful to have some idea of what a function in a library is doing. Being able to describe what is going on \"under the hood\" can help you understand whether or not a given function is suitable for your project.\n",
        "\n",
        "An effective way to build this ability is through learning-by-doing, so today you will select one of four small projects and code solutions in *pure Python*.\n",
        "\n",
        "\n",
        "\n"
      ]
    },
    {
      "cell_type": "markdown",
      "id": "Y-dOf76U7gTR",
      "metadata": {
        "id": "Y-dOf76U7gTR"
      },
      "source": [
        "1. Say you have a population of $k$ pairs of rabbits, free to reproduce without limit. In this toy model, rabbits are able to mate at the age of one month so that at the end of its second month a female can produce another pair of rabbits. Suppose that our rabbits never die and that the female always produces one new pair (one male, one female) every month *from the second month on*.\n",
        "After $n$ generations, how many rabbits will you have? Given the framing of the question, you do not need a model of population dynamics to provide an answer. You can simply use the Fibonacci sequence\n",
        "\n",
        "$F_{n} = \\left\\{\\begin{matrix}\n",
        "F_{n-1} + F_{n-2}, &  n > 1 \\\\\n",
        "1, & n = 1 \\\\\n",
        "0, &  n = 0 \\\\\n",
        "\\end{matrix}\\right.$\n",
        "\n",
        "Set $n=35$ and $k=5$. (Note that the Fibonacci sequence gives the number of rabbits for one pair!)\n"
      ]
    },
    {
      "cell_type": "code",
      "execution_count": null,
      "id": "ckVMGSoN7g6O",
      "metadata": {
        "id": "ckVMGSoN7g6O",
        "outputId": "a0343f74-d716-4d1b-c284-762387058b07"
      },
      "outputs": [
        {
          "name": "stdout",
          "output_type": "stream",
          "text": [
            "The number of rabbits is 46137325\n",
            "The number of rabbits is 875089148811941\n"
          ]
        }
      ],
      "source": [
        "\"\"\"\n",
        "Hint. Construct a function that has n,k as input, and contains a loop.\n",
        "Check whether the results is correct for small n, with pen and paper.\n",
        "\"\"\"\n",
        "\n",
        "\n"
      ]
    },
    {
      "cell_type": "markdown",
      "id": "f1579bf5-2640-4304-9449-a34d1611fb48",
      "metadata": {
        "id": "f1579bf5-2640-4304-9449-a34d1611fb48"
      },
      "source": [
        "There is also a closed form solution to this problem, can you solve it? (Hint, define a recurrence relation and use the characteristic polynomial).\n",
        "\n"
      ]
    },
    {
      "cell_type": "markdown",
      "id": "Xo3vXWqD7d2n",
      "metadata": {
        "id": "Xo3vXWqD7d2n"
      },
      "source": [
        "2. In DNA, symbols 'A' and 'T' are complements of each other, as are 'C' and 'G'. The reverse complement of DNA $s$ is the string $s^{c}$ formed by reversing the symbols of $s$, then taking the complement of each symbol (e.g., the reverse complement of \"GTCA\" is \"TGAC\"). Read in the string of DNA in `data_2.txt` and print the reverse compliment.\n",
        "\n",
        "\n",
        "\n",
        "\n"
      ]
    },
    {
      "cell_type": "code",
      "execution_count": null,
      "id": "7w1mANDD7YxU",
      "metadata": {
        "id": "7w1mANDD7YxU",
        "outputId": "1883cad2-c4e0-47ec-9991-84b133306d95"
      },
      "outputs": [
        {
          "name": "stdout",
          "output_type": "stream",
          "text": [
            "The reverse complement of the DNA is...\n",
            "CTAAAATGGTCTGGCGTGACGCTATGTAGCTCCTAAGTTACGTACTGTCCGTACATTGAACAATTAAAGGTAGCCCCCCTTTGAGAGCGTTGCAACTTGTTCGTAACTGTTAGACCCATCCTGTTTCGGTAGAAGATATCCACTATACCGGTTAGTATGGGATCCAAGCTACGCTGTACTTCGCAGTATATTATCAATATAAAATGTCCACACCGTTCGAGTTGAATTGCTCTGTTTCATCCCCATCGGCCAGCGTACTTGCTACGAGCAAGCATATTGGCGGTCGTCAAACACCTGTCATCACGTGGTCTGGGGTATGCGCCGGTAGATGGTACAACCGCGTTAGGGACGGCACCCGTCCAACAGCATACCTTCAACTACTCGTTTTACTTGAACTACAGTTCGTGCTTTTGTCAGGGCGCACCGTCCCTACTCCAAAAACTCCGAGAGCGCGAAGCACGGCCAGTGGCAAAGTCTTATGTACATGCGAATGGATTTGAGGAAGCAGAGTTGCCTACACATGTTCCGGAGATATCTCGCCGGTATAAAAGGGTGAAGTGGTGAAATCATACCGCTGTGTAACGCACTCTAGGACAAACATACCAACGCTCCAATAGTCCCCTTAGGCATGGAGGCGAGTTAATAGGCAAATATTTCGTATCACATTCGACTGTGAAATAGCCTTTAAGTACAGCTCAAGGTTTTTAAACTTCACATCAGTGTGCTAATCTCACCTTGAGTTGGACTAGCAACCAGGCAAATTATAGTGTCCGCCGAGAGAATTGTCAGGTCGGCTGTCATACGTTGGAGAGTTTGACCGGTCTATATC\n",
            "Output from str.maketrans()...\n",
            "CTAAAATGGTCTGGCGTGACGCTATGTAGCTCCTAAGTTACGTACTGTCCGTACATTGAACAATTAAAGGTAGCCCCCCTTTGAGAGCGTTGCAACTTGTTCGTAACTGTTAGACCCATCCTGTTTCGGTAGAAGATATCCACTATACCGGTTAGTATGGGATCCAAGCTACGCTGTACTTCGCAGTATATTATCAATATAAAATGTCCACACCGTTCGAGTTGAATTGCTCTGTTTCATCCCCATCGGCCAGCGTACTTGCTACGAGCAAGCATATTGGCGGTCGTCAAACACCTGTCATCACGTGGTCTGGGGTATGCGCCGGTAGATGGTACAACCGCGTTAGGGACGGCACCCGTCCAACAGCATACCTTCAACTACTCGTTTTACTTGAACTACAGTTCGTGCTTTTGTCAGGGCGCACCGTCCCTACTCCAAAAACTCCGAGAGCGCGAAGCACGGCCAGTGGCAAAGTCTTATGTACATGCGAATGGATTTGAGGAAGCAGAGTTGCCTACACATGTTCCGGAGATATCTCGCCGGTATAAAAGGGTGAAGTGGTGAAATCATACCGCTGTGTAACGCACTCTAGGACAAACATACCAACGCTCCAATAGTCCCCTTAGGCATGGAGGCGAGTTAATAGGCAAATATTTCGTATCACATTCGACTGTGAAATAGCCTTTAAGTACAGCTCAAGGTTTTTAAACTTCACATCAGTGTGCTAATCTCACCTTGAGTTGGACTAGCAACCAGGCAAATTATAGTGTCCGCCGAGAGAATTGTCAGGTCGGCTGTCATACGTTGGAGAGTTTGACCGGTCTATATC\n"
          ]
        }
      ],
      "source": [
        "\"\"\"\n",
        "Hint. There are many simple ways to achieve this result.\n",
        "A possibility is to use \"if\" conditions, and string slicings.\n",
        "Additionally, you can try to use a dictionary for the complements, and separate the problem into two functions:\n",
        "- one returning the reverse of an input string\n",
        "- one returning the complement of an input string\n",
        "\"\"\"\n",
        "\n",
        "\n"
      ]
    },
    {
      "cell_type": "markdown",
      "id": "i_biLV6v7Z7y",
      "metadata": {
        "id": "i_biLV6v7Z7y"
      },
      "source": [
        "3. In a weighted alphabet, every symbol is assigned a positive real number called a weight. A string formed from a weighted alphabet is called a weighted string, and its weight is equal to the sum of the weights of its symbols. The standard weight assigned to each member of the 20-symbol amino acid alphabet is the monoisotopic mass of the corresponding amino acid. So the molecular weight of a protein can be calculated as the sum of the weights of its amino acids. Given the amino acid string in `data_3.txt`, calculate the molecular weight. Using the molecular weights of each amino acid provided in `amino_acid_weights.txt`.\n"
      ]
    },
    {
      "cell_type": "code",
      "execution_count": null,
      "id": "fs4uhF977azw",
      "metadata": {
        "id": "fs4uhF977azw",
        "outputId": "ba332918-8672-4781-c19d-2e8ed91594b8"
      },
      "outputs": [
        {
          "name": "stdout",
          "output_type": "stream",
          "text": [
            "The monoisotopic mass [Da] of the protein is 115256.037480\n"
          ]
        }
      ],
      "source": [
        "\"\"\"\n",
        "Hint: Divide the problem into separate parts.\n",
        "- Read the molecular weights, and save them into a dictionary\n",
        "- Read the data\n",
        "- Make a function that has a string as input, the molecular weights dictionary, and returns its weight.\n",
        "- Calculate all molecular weights.\n",
        "\"\"\"\n",
        "\n",
        "\n"
      ]
    },
    {
      "cell_type": "markdown",
      "id": "oLKP57PG7OSF",
      "metadata": {
        "id": "oLKP57PG7OSF"
      },
      "source": [
        "4. Often in biology we want to calculate the distance between observations. This could be the distance in species composition between two communities or distance in the genetic composition of two strands of DNA, to provide two examples. Here you will be calculating the latter as the **fraction** of nucleotides that differ between DNA strings $s_{1}$ and $s_{2}$, $d(s_{1}, s_{2})$.  You are provided with a list of $n$ sequences in `data_4.txt`, calculate the distance between each pair of sequencies ($d(s_{i}, s_{j})$) and make a nested list in matrix form.\n",
        "\n",
        "$\\mathbf{d} =\n",
        "\\begin{pmatrix}\n",
        "d_{1,1} & d_{1,2} & \\cdots & d_{1,n} \\\\\n",
        "d_{2,1} & d_{2,2} & \\cdots & d_{2,n} \\\\\n",
        "\\vdots  & \\vdots  & \\ddots & \\vdots  \\\\\n",
        "d_{n,1} & d_{n,2} & \\cdots & d_{n,n}\n",
        "\\end{pmatrix}$\n"
      ]
    },
    {
      "cell_type": "code",
      "execution_count": null,
      "id": "75174f9b",
      "metadata": {
        "id": "75174f9b",
        "outputId": "2fe01f3e-6ed9-4728-ca29-6e25dcf5430b"
      },
      "outputs": [
        {
          "name": "stdout",
          "output_type": "stream",
          "text": [
            "[[0.0, 0.31053203040173727, 0.5537459283387622, 0.3289902280130293, 0.5841476655808904, 0.31596091205211724, 0.6015200868621065, 0.5385450597176982, 0.48642779587404994], [0.31053203040173727, 0.0, 0.5928338762214984, 0.4820846905537459, 0.6254071661237784, 0.47014115092290987, 0.6753528773072747, 0.6199782844733985, 0.5787187839305103], [0.5537459283387622, 0.5928338762214984, 0.0, 0.46362649294245384, 0.5613463626492943, 0.6134636264929425, 0.5656894679695983, 0.46254071661237783, 0.31704668838219324], [0.3289902280130293, 0.4820846905537459, 0.46362649294245384, 0.0, 0.5309446254071661, 0.48751357220412594, 0.5494028230184582, 0.42888165038002174, 0.28555917480998916], [0.5841476655808904, 0.6254071661237784, 0.5613463626492943, 0.5309446254071661, 0.0, 0.6123778501628665, 0.48751357220412594, 0.30510314875135724, 0.4527687296416938], [0.31596091205211724, 0.47014115092290987, 0.6134636264929425, 0.48751357220412594, 0.6123778501628665, 0.0, 0.6568946796959826, 0.6091205211726385, 0.5656894679695983], [0.6015200868621065, 0.6753528773072747, 0.5656894679695983, 0.5494028230184582, 0.48751357220412594, 0.6568946796959826, 0.0, 0.31487513572204123, 0.4527687296416938], [0.5385450597176982, 0.6199782844733985, 0.46254071661237783, 0.42888165038002174, 0.30510314875135724, 0.6091205211726385, 0.31487513572204123, 0.0, 0.2768729641693811], [0.48642779587404994, 0.5787187839305103, 0.31704668838219324, 0.28555917480998916, 0.4527687296416938, 0.5656894679695983, 0.4527687296416938, 0.2768729641693811, 0.0]]\n"
          ]
        }
      ],
      "source": [
        "\"\"\"\n",
        "Hint: Divide the problem into separate parts.\n",
        "- Read the data\n",
        "- Construct a function that calculates the distance (fraction) of two strings.\n",
        "- Construct the matrix\n",
        "\"\"\"\n",
        "\n",
        "# specify your path\n",
        "\n"
      ]
    },
    {
      "cell_type": "code",
      "execution_count": null,
      "id": "d7fc5d5b-b0bd-4a38-a1a9-c829d903313e",
      "metadata": {
        "id": "d7fc5d5b-b0bd-4a38-a1a9-c829d903313e"
      },
      "outputs": [],
      "source": []
    }
  ],
  "metadata": {
    "colab": {
      "provenance": []
    },
    "kernelspec": {
      "display_name": "Python 3 (ipykernel)",
      "language": "python",
      "name": "python3"
    },
    "language_info": {
      "codemirror_mode": {
        "name": "ipython",
        "version": 3
      },
      "file_extension": ".py",
      "mimetype": "text/x-python",
      "name": "python",
      "nbconvert_exporter": "python",
      "pygments_lexer": "ipython3",
      "version": "3.8.17"
    }
  },
  "nbformat": 4,
  "nbformat_minor": 5
}